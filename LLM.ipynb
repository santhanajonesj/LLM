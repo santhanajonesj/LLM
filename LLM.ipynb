{
  "nbformat": 4,
  "nbformat_minor": 0,
  "metadata": {
    "colab": {
      "provenance": []
    },
    "kernelspec": {
      "name": "python3",
      "display_name": "Python 3"
    },
    "language_info": {
      "name": "python"
    }
  },
  "cells": [
    {
      "cell_type": "code",
      "execution_count": null,
      "metadata": {
        "id": "_qvJU1aQgOYA"
      },
      "outputs": [],
      "source": [
        "model_file = '/content/drive/MyDrive/llm/llama-2-7b-chat.ggmlv3.q8_0.bin'"
      ]
    },
    {
      "cell_type": "code",
      "source": [
        "!pip install langchain"
      ],
      "metadata": {
        "colab": {
          "base_uri": "https://localhost:8080/"
        },
        "id": "6X9rELLGgsfS",
        "outputId": "f99ae610-ad5c-4340-d0c0-e7669a4004ca"
      },
      "execution_count": null,
      "outputs": [
        {
          "output_type": "stream",
          "name": "stdout",
          "text": [
            "Requirement already satisfied: langchain in /usr/local/lib/python3.10/dist-packages (0.3.7)\n",
            "Requirement already satisfied: PyYAML>=5.3 in /usr/local/lib/python3.10/dist-packages (from langchain) (6.0.2)\n",
            "Requirement already satisfied: SQLAlchemy<3,>=1.4 in /usr/local/lib/python3.10/dist-packages (from langchain) (2.0.35)\n",
            "Requirement already satisfied: aiohttp<4.0.0,>=3.8.3 in /usr/local/lib/python3.10/dist-packages (from langchain) (3.10.10)\n",
            "Requirement already satisfied: async-timeout<5.0.0,>=4.0.0 in /usr/local/lib/python3.10/dist-packages (from langchain) (4.0.3)\n",
            "Requirement already satisfied: langchain-core<0.4.0,>=0.3.15 in /usr/local/lib/python3.10/dist-packages (from langchain) (0.3.17)\n",
            "Requirement already satisfied: langchain-text-splitters<0.4.0,>=0.3.0 in /usr/local/lib/python3.10/dist-packages (from langchain) (0.3.2)\n",
            "Requirement already satisfied: langsmith<0.2.0,>=0.1.17 in /usr/local/lib/python3.10/dist-packages (from langchain) (0.1.142)\n",
            "Requirement already satisfied: numpy<2,>=1 in /usr/local/lib/python3.10/dist-packages (from langchain) (1.26.4)\n",
            "Requirement already satisfied: pydantic<3.0.0,>=2.7.4 in /usr/local/lib/python3.10/dist-packages (from langchain) (2.9.2)\n",
            "Requirement already satisfied: requests<3,>=2 in /usr/local/lib/python3.10/dist-packages (from langchain) (2.32.3)\n",
            "Requirement already satisfied: tenacity!=8.4.0,<10,>=8.1.0 in /usr/local/lib/python3.10/dist-packages (from langchain) (9.0.0)\n",
            "Requirement already satisfied: aiohappyeyeballs>=2.3.0 in /usr/local/lib/python3.10/dist-packages (from aiohttp<4.0.0,>=3.8.3->langchain) (2.4.3)\n",
            "Requirement already satisfied: aiosignal>=1.1.2 in /usr/local/lib/python3.10/dist-packages (from aiohttp<4.0.0,>=3.8.3->langchain) (1.3.1)\n",
            "Requirement already satisfied: attrs>=17.3.0 in /usr/local/lib/python3.10/dist-packages (from aiohttp<4.0.0,>=3.8.3->langchain) (24.2.0)\n",
            "Requirement already satisfied: frozenlist>=1.1.1 in /usr/local/lib/python3.10/dist-packages (from aiohttp<4.0.0,>=3.8.3->langchain) (1.5.0)\n",
            "Requirement already satisfied: multidict<7.0,>=4.5 in /usr/local/lib/python3.10/dist-packages (from aiohttp<4.0.0,>=3.8.3->langchain) (6.1.0)\n",
            "Requirement already satisfied: yarl<2.0,>=1.12.0 in /usr/local/lib/python3.10/dist-packages (from aiohttp<4.0.0,>=3.8.3->langchain) (1.17.1)\n",
            "Requirement already satisfied: jsonpatch<2.0,>=1.33 in /usr/local/lib/python3.10/dist-packages (from langchain-core<0.4.0,>=0.3.15->langchain) (1.33)\n",
            "Requirement already satisfied: packaging<25,>=23.2 in /usr/local/lib/python3.10/dist-packages (from langchain-core<0.4.0,>=0.3.15->langchain) (24.2)\n",
            "Requirement already satisfied: typing-extensions>=4.7 in /usr/local/lib/python3.10/dist-packages (from langchain-core<0.4.0,>=0.3.15->langchain) (4.12.2)\n",
            "Requirement already satisfied: httpx<1,>=0.23.0 in /usr/local/lib/python3.10/dist-packages (from langsmith<0.2.0,>=0.1.17->langchain) (0.27.2)\n",
            "Requirement already satisfied: orjson<4.0.0,>=3.9.14 in /usr/local/lib/python3.10/dist-packages (from langsmith<0.2.0,>=0.1.17->langchain) (3.10.11)\n",
            "Requirement already satisfied: requests-toolbelt<2.0.0,>=1.0.0 in /usr/local/lib/python3.10/dist-packages (from langsmith<0.2.0,>=0.1.17->langchain) (1.0.0)\n",
            "Requirement already satisfied: annotated-types>=0.6.0 in /usr/local/lib/python3.10/dist-packages (from pydantic<3.0.0,>=2.7.4->langchain) (0.7.0)\n",
            "Requirement already satisfied: pydantic-core==2.23.4 in /usr/local/lib/python3.10/dist-packages (from pydantic<3.0.0,>=2.7.4->langchain) (2.23.4)\n",
            "Requirement already satisfied: charset-normalizer<4,>=2 in /usr/local/lib/python3.10/dist-packages (from requests<3,>=2->langchain) (3.4.0)\n",
            "Requirement already satisfied: idna<4,>=2.5 in /usr/local/lib/python3.10/dist-packages (from requests<3,>=2->langchain) (3.10)\n",
            "Requirement already satisfied: urllib3<3,>=1.21.1 in /usr/local/lib/python3.10/dist-packages (from requests<3,>=2->langchain) (2.2.3)\n",
            "Requirement already satisfied: certifi>=2017.4.17 in /usr/local/lib/python3.10/dist-packages (from requests<3,>=2->langchain) (2024.8.30)\n",
            "Requirement already satisfied: greenlet!=0.4.17 in /usr/local/lib/python3.10/dist-packages (from SQLAlchemy<3,>=1.4->langchain) (3.1.1)\n",
            "Requirement already satisfied: anyio in /usr/local/lib/python3.10/dist-packages (from httpx<1,>=0.23.0->langsmith<0.2.0,>=0.1.17->langchain) (3.7.1)\n",
            "Requirement already satisfied: httpcore==1.* in /usr/local/lib/python3.10/dist-packages (from httpx<1,>=0.23.0->langsmith<0.2.0,>=0.1.17->langchain) (1.0.6)\n",
            "Requirement already satisfied: sniffio in /usr/local/lib/python3.10/dist-packages (from httpx<1,>=0.23.0->langsmith<0.2.0,>=0.1.17->langchain) (1.3.1)\n",
            "Requirement already satisfied: h11<0.15,>=0.13 in /usr/local/lib/python3.10/dist-packages (from httpcore==1.*->httpx<1,>=0.23.0->langsmith<0.2.0,>=0.1.17->langchain) (0.14.0)\n",
            "Requirement already satisfied: jsonpointer>=1.9 in /usr/local/lib/python3.10/dist-packages (from jsonpatch<2.0,>=1.33->langchain-core<0.4.0,>=0.3.15->langchain) (3.0.0)\n",
            "Requirement already satisfied: propcache>=0.2.0 in /usr/local/lib/python3.10/dist-packages (from yarl<2.0,>=1.12.0->aiohttp<4.0.0,>=3.8.3->langchain) (0.2.0)\n",
            "Requirement already satisfied: exceptiongroup in /usr/local/lib/python3.10/dist-packages (from anyio->httpx<1,>=0.23.0->langsmith<0.2.0,>=0.1.17->langchain) (1.2.2)\n"
          ]
        }
      ]
    },
    {
      "cell_type": "code",
      "source": [
        "!pip install sentence-transformers"
      ],
      "metadata": {
        "colab": {
          "base_uri": "https://localhost:8080/"
        },
        "id": "zJtYLTSogshd",
        "outputId": "5da3acba-db0d-4b3b-f29d-f319476200a8"
      },
      "execution_count": null,
      "outputs": [
        {
          "output_type": "stream",
          "name": "stdout",
          "text": [
            "Requirement already satisfied: sentence-transformers in /usr/local/lib/python3.10/dist-packages (3.2.1)\n",
            "Requirement already satisfied: transformers<5.0.0,>=4.41.0 in /usr/local/lib/python3.10/dist-packages (from sentence-transformers) (4.46.2)\n",
            "Requirement already satisfied: tqdm in /usr/local/lib/python3.10/dist-packages (from sentence-transformers) (4.66.6)\n",
            "Requirement already satisfied: torch>=1.11.0 in /usr/local/lib/python3.10/dist-packages (from sentence-transformers) (2.5.1+cu121)\n",
            "Requirement already satisfied: scikit-learn in /usr/local/lib/python3.10/dist-packages (from sentence-transformers) (1.5.2)\n",
            "Requirement already satisfied: scipy in /usr/local/lib/python3.10/dist-packages (from sentence-transformers) (1.13.1)\n",
            "Requirement already satisfied: huggingface-hub>=0.20.0 in /usr/local/lib/python3.10/dist-packages (from sentence-transformers) (0.26.2)\n",
            "Requirement already satisfied: Pillow in /usr/local/lib/python3.10/dist-packages (from sentence-transformers) (11.0.0)\n",
            "Requirement already satisfied: filelock in /usr/local/lib/python3.10/dist-packages (from huggingface-hub>=0.20.0->sentence-transformers) (3.16.1)\n",
            "Requirement already satisfied: fsspec>=2023.5.0 in /usr/local/lib/python3.10/dist-packages (from huggingface-hub>=0.20.0->sentence-transformers) (2024.10.0)\n",
            "Requirement already satisfied: packaging>=20.9 in /usr/local/lib/python3.10/dist-packages (from huggingface-hub>=0.20.0->sentence-transformers) (24.2)\n",
            "Requirement already satisfied: pyyaml>=5.1 in /usr/local/lib/python3.10/dist-packages (from huggingface-hub>=0.20.0->sentence-transformers) (6.0.2)\n",
            "Requirement already satisfied: requests in /usr/local/lib/python3.10/dist-packages (from huggingface-hub>=0.20.0->sentence-transformers) (2.32.3)\n",
            "Requirement already satisfied: typing-extensions>=3.7.4.3 in /usr/local/lib/python3.10/dist-packages (from huggingface-hub>=0.20.0->sentence-transformers) (4.12.2)\n",
            "Requirement already satisfied: networkx in /usr/local/lib/python3.10/dist-packages (from torch>=1.11.0->sentence-transformers) (3.4.2)\n",
            "Requirement already satisfied: jinja2 in /usr/local/lib/python3.10/dist-packages (from torch>=1.11.0->sentence-transformers) (3.1.4)\n",
            "Requirement already satisfied: sympy==1.13.1 in /usr/local/lib/python3.10/dist-packages (from torch>=1.11.0->sentence-transformers) (1.13.1)\n",
            "Requirement already satisfied: mpmath<1.4,>=1.1.0 in /usr/local/lib/python3.10/dist-packages (from sympy==1.13.1->torch>=1.11.0->sentence-transformers) (1.3.0)\n",
            "Requirement already satisfied: numpy>=1.17 in /usr/local/lib/python3.10/dist-packages (from transformers<5.0.0,>=4.41.0->sentence-transformers) (1.26.4)\n",
            "Requirement already satisfied: regex!=2019.12.17 in /usr/local/lib/python3.10/dist-packages (from transformers<5.0.0,>=4.41.0->sentence-transformers) (2024.9.11)\n",
            "Requirement already satisfied: safetensors>=0.4.1 in /usr/local/lib/python3.10/dist-packages (from transformers<5.0.0,>=4.41.0->sentence-transformers) (0.4.5)\n",
            "Requirement already satisfied: tokenizers<0.21,>=0.20 in /usr/local/lib/python3.10/dist-packages (from transformers<5.0.0,>=4.41.0->sentence-transformers) (0.20.3)\n",
            "Requirement already satisfied: joblib>=1.2.0 in /usr/local/lib/python3.10/dist-packages (from scikit-learn->sentence-transformers) (1.4.2)\n",
            "Requirement already satisfied: threadpoolctl>=3.1.0 in /usr/local/lib/python3.10/dist-packages (from scikit-learn->sentence-transformers) (3.5.0)\n",
            "Requirement already satisfied: MarkupSafe>=2.0 in /usr/local/lib/python3.10/dist-packages (from jinja2->torch>=1.11.0->sentence-transformers) (3.0.2)\n",
            "Requirement already satisfied: charset-normalizer<4,>=2 in /usr/local/lib/python3.10/dist-packages (from requests->huggingface-hub>=0.20.0->sentence-transformers) (3.4.0)\n",
            "Requirement already satisfied: idna<4,>=2.5 in /usr/local/lib/python3.10/dist-packages (from requests->huggingface-hub>=0.20.0->sentence-transformers) (3.10)\n",
            "Requirement already satisfied: urllib3<3,>=1.21.1 in /usr/local/lib/python3.10/dist-packages (from requests->huggingface-hub>=0.20.0->sentence-transformers) (2.2.3)\n",
            "Requirement already satisfied: certifi>=2017.4.17 in /usr/local/lib/python3.10/dist-packages (from requests->huggingface-hub>=0.20.0->sentence-transformers) (2024.8.30)\n"
          ]
        }
      ]
    },
    {
      "cell_type": "code",
      "source": [
        "\n",
        "!pip install langchain_community"
      ],
      "metadata": {
        "colab": {
          "base_uri": "https://localhost:8080/"
        },
        "id": "L2oGprudgsjv",
        "outputId": "c418692f-0581-4536-e763-5ce46f34acdb"
      },
      "execution_count": null,
      "outputs": [
        {
          "output_type": "stream",
          "name": "stdout",
          "text": [
            "Requirement already satisfied: langchain_community in /usr/local/lib/python3.10/dist-packages (0.3.7)\n",
            "Requirement already satisfied: PyYAML>=5.3 in /usr/local/lib/python3.10/dist-packages (from langchain_community) (6.0.2)\n",
            "Requirement already satisfied: SQLAlchemy<2.0.36,>=1.4 in /usr/local/lib/python3.10/dist-packages (from langchain_community) (2.0.35)\n",
            "Requirement already satisfied: aiohttp<4.0.0,>=3.8.3 in /usr/local/lib/python3.10/dist-packages (from langchain_community) (3.10.10)\n",
            "Requirement already satisfied: dataclasses-json<0.7,>=0.5.7 in /usr/local/lib/python3.10/dist-packages (from langchain_community) (0.6.7)\n",
            "Requirement already satisfied: httpx-sse<0.5.0,>=0.4.0 in /usr/local/lib/python3.10/dist-packages (from langchain_community) (0.4.0)\n",
            "Requirement already satisfied: langchain<0.4.0,>=0.3.7 in /usr/local/lib/python3.10/dist-packages (from langchain_community) (0.3.7)\n",
            "Requirement already satisfied: langchain-core<0.4.0,>=0.3.17 in /usr/local/lib/python3.10/dist-packages (from langchain_community) (0.3.17)\n",
            "Requirement already satisfied: langsmith<0.2.0,>=0.1.125 in /usr/local/lib/python3.10/dist-packages (from langchain_community) (0.1.142)\n",
            "Requirement already satisfied: numpy<2,>=1 in /usr/local/lib/python3.10/dist-packages (from langchain_community) (1.26.4)\n",
            "Requirement already satisfied: pydantic-settings<3.0.0,>=2.4.0 in /usr/local/lib/python3.10/dist-packages (from langchain_community) (2.6.1)\n",
            "Requirement already satisfied: requests<3,>=2 in /usr/local/lib/python3.10/dist-packages (from langchain_community) (2.32.3)\n",
            "Requirement already satisfied: tenacity!=8.4.0,<10,>=8.1.0 in /usr/local/lib/python3.10/dist-packages (from langchain_community) (9.0.0)\n",
            "Requirement already satisfied: aiohappyeyeballs>=2.3.0 in /usr/local/lib/python3.10/dist-packages (from aiohttp<4.0.0,>=3.8.3->langchain_community) (2.4.3)\n",
            "Requirement already satisfied: aiosignal>=1.1.2 in /usr/local/lib/python3.10/dist-packages (from aiohttp<4.0.0,>=3.8.3->langchain_community) (1.3.1)\n",
            "Requirement already satisfied: attrs>=17.3.0 in /usr/local/lib/python3.10/dist-packages (from aiohttp<4.0.0,>=3.8.3->langchain_community) (24.2.0)\n",
            "Requirement already satisfied: frozenlist>=1.1.1 in /usr/local/lib/python3.10/dist-packages (from aiohttp<4.0.0,>=3.8.3->langchain_community) (1.5.0)\n",
            "Requirement already satisfied: multidict<7.0,>=4.5 in /usr/local/lib/python3.10/dist-packages (from aiohttp<4.0.0,>=3.8.3->langchain_community) (6.1.0)\n",
            "Requirement already satisfied: yarl<2.0,>=1.12.0 in /usr/local/lib/python3.10/dist-packages (from aiohttp<4.0.0,>=3.8.3->langchain_community) (1.17.1)\n",
            "Requirement already satisfied: async-timeout<5.0,>=4.0 in /usr/local/lib/python3.10/dist-packages (from aiohttp<4.0.0,>=3.8.3->langchain_community) (4.0.3)\n",
            "Requirement already satisfied: marshmallow<4.0.0,>=3.18.0 in /usr/local/lib/python3.10/dist-packages (from dataclasses-json<0.7,>=0.5.7->langchain_community) (3.23.1)\n",
            "Requirement already satisfied: typing-inspect<1,>=0.4.0 in /usr/local/lib/python3.10/dist-packages (from dataclasses-json<0.7,>=0.5.7->langchain_community) (0.9.0)\n",
            "Requirement already satisfied: langchain-text-splitters<0.4.0,>=0.3.0 in /usr/local/lib/python3.10/dist-packages (from langchain<0.4.0,>=0.3.7->langchain_community) (0.3.2)\n",
            "Requirement already satisfied: pydantic<3.0.0,>=2.7.4 in /usr/local/lib/python3.10/dist-packages (from langchain<0.4.0,>=0.3.7->langchain_community) (2.9.2)\n",
            "Requirement already satisfied: jsonpatch<2.0,>=1.33 in /usr/local/lib/python3.10/dist-packages (from langchain-core<0.4.0,>=0.3.17->langchain_community) (1.33)\n",
            "Requirement already satisfied: packaging<25,>=23.2 in /usr/local/lib/python3.10/dist-packages (from langchain-core<0.4.0,>=0.3.17->langchain_community) (24.2)\n",
            "Requirement already satisfied: typing-extensions>=4.7 in /usr/local/lib/python3.10/dist-packages (from langchain-core<0.4.0,>=0.3.17->langchain_community) (4.12.2)\n",
            "Requirement already satisfied: httpx<1,>=0.23.0 in /usr/local/lib/python3.10/dist-packages (from langsmith<0.2.0,>=0.1.125->langchain_community) (0.27.2)\n",
            "Requirement already satisfied: orjson<4.0.0,>=3.9.14 in /usr/local/lib/python3.10/dist-packages (from langsmith<0.2.0,>=0.1.125->langchain_community) (3.10.11)\n",
            "Requirement already satisfied: requests-toolbelt<2.0.0,>=1.0.0 in /usr/local/lib/python3.10/dist-packages (from langsmith<0.2.0,>=0.1.125->langchain_community) (1.0.0)\n",
            "Requirement already satisfied: python-dotenv>=0.21.0 in /usr/local/lib/python3.10/dist-packages (from pydantic-settings<3.0.0,>=2.4.0->langchain_community) (1.0.1)\n",
            "Requirement already satisfied: charset-normalizer<4,>=2 in /usr/local/lib/python3.10/dist-packages (from requests<3,>=2->langchain_community) (3.4.0)\n",
            "Requirement already satisfied: idna<4,>=2.5 in /usr/local/lib/python3.10/dist-packages (from requests<3,>=2->langchain_community) (3.10)\n",
            "Requirement already satisfied: urllib3<3,>=1.21.1 in /usr/local/lib/python3.10/dist-packages (from requests<3,>=2->langchain_community) (2.2.3)\n",
            "Requirement already satisfied: certifi>=2017.4.17 in /usr/local/lib/python3.10/dist-packages (from requests<3,>=2->langchain_community) (2024.8.30)\n",
            "Requirement already satisfied: greenlet!=0.4.17 in /usr/local/lib/python3.10/dist-packages (from SQLAlchemy<2.0.36,>=1.4->langchain_community) (3.1.1)\n",
            "Requirement already satisfied: anyio in /usr/local/lib/python3.10/dist-packages (from httpx<1,>=0.23.0->langsmith<0.2.0,>=0.1.125->langchain_community) (3.7.1)\n",
            "Requirement already satisfied: httpcore==1.* in /usr/local/lib/python3.10/dist-packages (from httpx<1,>=0.23.0->langsmith<0.2.0,>=0.1.125->langchain_community) (1.0.6)\n",
            "Requirement already satisfied: sniffio in /usr/local/lib/python3.10/dist-packages (from httpx<1,>=0.23.0->langsmith<0.2.0,>=0.1.125->langchain_community) (1.3.1)\n",
            "Requirement already satisfied: h11<0.15,>=0.13 in /usr/local/lib/python3.10/dist-packages (from httpcore==1.*->httpx<1,>=0.23.0->langsmith<0.2.0,>=0.1.125->langchain_community) (0.14.0)\n",
            "Requirement already satisfied: jsonpointer>=1.9 in /usr/local/lib/python3.10/dist-packages (from jsonpatch<2.0,>=1.33->langchain-core<0.4.0,>=0.3.17->langchain_community) (3.0.0)\n",
            "Requirement already satisfied: annotated-types>=0.6.0 in /usr/local/lib/python3.10/dist-packages (from pydantic<3.0.0,>=2.7.4->langchain<0.4.0,>=0.3.7->langchain_community) (0.7.0)\n",
            "Requirement already satisfied: pydantic-core==2.23.4 in /usr/local/lib/python3.10/dist-packages (from pydantic<3.0.0,>=2.7.4->langchain<0.4.0,>=0.3.7->langchain_community) (2.23.4)\n",
            "Requirement already satisfied: mypy-extensions>=0.3.0 in /usr/local/lib/python3.10/dist-packages (from typing-inspect<1,>=0.4.0->dataclasses-json<0.7,>=0.5.7->langchain_community) (1.0.0)\n",
            "Requirement already satisfied: propcache>=0.2.0 in /usr/local/lib/python3.10/dist-packages (from yarl<2.0,>=1.12.0->aiohttp<4.0.0,>=3.8.3->langchain_community) (0.2.0)\n",
            "Requirement already satisfied: exceptiongroup in /usr/local/lib/python3.10/dist-packages (from anyio->httpx<1,>=0.23.0->langsmith<0.2.0,>=0.1.125->langchain_community) (1.2.2)\n"
          ]
        }
      ]
    },
    {
      "cell_type": "code",
      "source": [
        "!pip install ctransformers"
      ],
      "metadata": {
        "colab": {
          "base_uri": "https://localhost:8080/"
        },
        "id": "X5OV3d8pgsnQ",
        "outputId": "39af9202-bef6-4381-bac1-fa55d92b1362"
      },
      "execution_count": null,
      "outputs": [
        {
          "output_type": "stream",
          "name": "stdout",
          "text": [
            "Requirement already satisfied: ctransformers in /usr/local/lib/python3.10/dist-packages (0.2.27)\n",
            "Requirement already satisfied: huggingface-hub in /usr/local/lib/python3.10/dist-packages (from ctransformers) (0.26.2)\n",
            "Requirement already satisfied: py-cpuinfo<10.0.0,>=9.0.0 in /usr/local/lib/python3.10/dist-packages (from ctransformers) (9.0.0)\n",
            "Requirement already satisfied: filelock in /usr/local/lib/python3.10/dist-packages (from huggingface-hub->ctransformers) (3.16.1)\n",
            "Requirement already satisfied: fsspec>=2023.5.0 in /usr/local/lib/python3.10/dist-packages (from huggingface-hub->ctransformers) (2024.10.0)\n",
            "Requirement already satisfied: packaging>=20.9 in /usr/local/lib/python3.10/dist-packages (from huggingface-hub->ctransformers) (24.2)\n",
            "Requirement already satisfied: pyyaml>=5.1 in /usr/local/lib/python3.10/dist-packages (from huggingface-hub->ctransformers) (6.0.2)\n",
            "Requirement already satisfied: requests in /usr/local/lib/python3.10/dist-packages (from huggingface-hub->ctransformers) (2.32.3)\n",
            "Requirement already satisfied: tqdm>=4.42.1 in /usr/local/lib/python3.10/dist-packages (from huggingface-hub->ctransformers) (4.66.6)\n",
            "Requirement already satisfied: typing-extensions>=3.7.4.3 in /usr/local/lib/python3.10/dist-packages (from huggingface-hub->ctransformers) (4.12.2)\n",
            "Requirement already satisfied: charset-normalizer<4,>=2 in /usr/local/lib/python3.10/dist-packages (from requests->huggingface-hub->ctransformers) (3.4.0)\n",
            "Requirement already satisfied: idna<4,>=2.5 in /usr/local/lib/python3.10/dist-packages (from requests->huggingface-hub->ctransformers) (3.10)\n",
            "Requirement already satisfied: urllib3<3,>=1.21.1 in /usr/local/lib/python3.10/dist-packages (from requests->huggingface-hub->ctransformers) (2.2.3)\n",
            "Requirement already satisfied: certifi>=2017.4.17 in /usr/local/lib/python3.10/dist-packages (from requests->huggingface-hub->ctransformers) (2024.8.30)\n"
          ]
        }
      ]
    },
    {
      "cell_type": "code",
      "source": [
        "!pip install faiss-gpu"
      ],
      "metadata": {
        "colab": {
          "base_uri": "https://localhost:8080/"
        },
        "id": "P_04zNFqgxR7",
        "outputId": "bb1d1416-8344-41b5-f541-c52b551c34a1"
      },
      "execution_count": null,
      "outputs": [
        {
          "output_type": "stream",
          "name": "stdout",
          "text": [
            "Requirement already satisfied: faiss-gpu in /usr/local/lib/python3.10/dist-packages (1.7.2)\n"
          ]
        }
      ]
    },
    {
      "cell_type": "code",
      "source": [
        "pip install pypdf"
      ],
      "metadata": {
        "colab": {
          "base_uri": "https://localhost:8080/"
        },
        "id": "TdK8ID73gxUa",
        "outputId": "5ba7be70-1b29-4d31-f7e2-b9eccfb11299"
      },
      "execution_count": null,
      "outputs": [
        {
          "output_type": "stream",
          "name": "stdout",
          "text": [
            "Requirement already satisfied: pypdf in /usr/local/lib/python3.10/dist-packages (5.1.0)\n",
            "Requirement already satisfied: typing_extensions>=4.0 in /usr/local/lib/python3.10/dist-packages (from pypdf) (4.12.2)\n"
          ]
        }
      ]
    },
    {
      "cell_type": "code",
      "source": [],
      "metadata": {
        "id": "WPw1vCq_gxX5"
      },
      "execution_count": null,
      "outputs": []
    },
    {
      "cell_type": "code",
      "source": [
        "from langchain.document_loaders import PyPDFLoader, DirectoryLoader\n",
        "\n",
        "from langchain.text_splitter import RecursiveCharacterTextSplitter\n",
        "from langchain.embeddings import HuggingFaceEmbeddings\n",
        "\n",
        "from langchain.vectorstores import FAISS\n",
        "\n",
        "import box\n",
        "from langchain.llms import CTransformers"
      ],
      "metadata": {
        "id": "iqS8I0NogiLF"
      },
      "execution_count": null,
      "outputs": []
    },
    {
      "cell_type": "code",
      "source": [
        "dir_files = DirectoryLoader(\"/content/drive/MyDrive/llm\", glob= \"*.pdf\", loader_cls= PyPDFLoader)"
      ],
      "metadata": {
        "id": "3vW_GhHXglf6"
      },
      "execution_count": null,
      "outputs": []
    },
    {
      "cell_type": "code",
      "source": [
        "docs = dir_files.load()"
      ],
      "metadata": {
        "id": "vThP-Y6MhDy3"
      },
      "execution_count": null,
      "outputs": []
    },
    {
      "cell_type": "code",
      "source": [
        "splited_text = RecursiveCharacterTextSplitter(chunk_size = 550, chunk_overlap = 50)"
      ],
      "metadata": {
        "id": "h299AUgshFO8"
      },
      "execution_count": null,
      "outputs": []
    },
    {
      "cell_type": "code",
      "source": [
        "documents_splitted = splited_text.split_documents(docs)"
      ],
      "metadata": {
        "id": "XLwTJA-ShHIs"
      },
      "execution_count": null,
      "outputs": []
    },
    {
      "cell_type": "code",
      "source": [
        "documents_splitted"
      ],
      "metadata": {
        "colab": {
          "base_uri": "https://localhost:8080/"
        },
        "id": "o9IKsKBMhJT-",
        "outputId": "8c5ca83c-4189-44ef-f181-bb6733674f9a"
      },
      "execution_count": null,
      "outputs": [
        {
          "output_type": "execute_result",
          "data": {
            "text/plain": [
              "[Document(metadata={'source': '/content/drive/MyDrive/llm/bank_statement.pdf', 'page': 0}, page_content='Account Number:\\n1234567890\\nAccount Holder:\\nJohn Doe\\nBranch Name:\\nMain Branch\\nStatement Date:\\n15-Nov-2023\\nCIF No:\\n89725346219\\nIFSC Code:\\nSBIN000234\\nBanalce As of:\\n156780'),\n",
              " Document(metadata={'source': '/content/drive/MyDrive/llm/bank_statement.pdf', 'page': 1}, page_content='Date\\nDescription\\nTrans. ID\\nAmount\\nType\\nBalance\\n2022-11-09\\nWhether mouth use trip.\\nAIE1HQ\\n156780.0\\nCredit\\n156780.0\\n2022-11-10\\nFull many kind.\\nRCCMS4\\n16.62\\nCredit\\n156796.62\\n2022-11-10\\nOur produce minute.\\nIR6B4I\\n120.29\\nDebit\\n156676.33\\n2022-11-11\\nEither all wrong improve.\\nXWKYLO\\n465.96\\nCredit\\n157142.29\\n2022-11-12\\nHe store fly success few.\\nG7IP4A\\n312.42\\nCredit\\n157454.71\\n2022-11-12\\nGet notice figure big the\\n68A4KU\\n351.72\\nDebit\\n157102.99\\n2022-11-14\\nActivity this network.\\n6GNDNJ\\n63.59\\nDebit\\n157039.4\\n2022-11-14\\nGeneration by war he give\\nD7RAS7\\n142.11'),\n",
              " Document(metadata={'source': '/content/drive/MyDrive/llm/bank_statement.pdf', 'page': 1}, page_content='Generation by war he give\\nD7RAS7\\n142.11\\nCredit\\n157181.51\\n2022-11-16\\nSell pass today.\\nYLSPV4\\n357.6\\nDebit\\n156823.91\\n2022-11-16\\nAbility maybe radio chanc\\n1XXZB7\\n251.26\\nDebit\\n156572.65\\n2022-11-16\\nRise doctor machine resou\\n9LMUBW\\n482.1\\nCredit\\n157054.75\\n2022-11-23\\nHour campaign score.\\nCRAI48\\n268.53\\nCredit\\n157323.28\\n2022-11-24\\nThan mention party fire.\\n90RLV2\\n427.01\\nCredit\\n157750.29\\n2022-11-24\\nMedical push interesting.\\nBEY2UQ\\n288.74\\nCredit\\n158039.03\\n2022-11-25\\nAlready indicate very vie\\nH771L8\\n317.73\\nCredit\\n158356.76\\n2022-11-26'),\n",
              " Document(metadata={'source': '/content/drive/MyDrive/llm/bank_statement.pdf', 'page': 1}, page_content='H771L8\\n317.73\\nCredit\\n158356.76\\n2022-11-26\\nPersonal recent deal expe\\nW9OWO9\\n54.4\\nCredit\\n158411.16\\n2022-11-27\\nCan authority memory.\\nJV75AI\\n227.08\\nDebit\\n158184.08\\n2022-11-27\\nLevel church hair.\\nYMJXZ3\\n73.22\\nDebit\\n158110.86\\n2022-11-27\\nCut boy health what end.\\nL4IXY8\\n274.12\\nCredit\\n158384.98\\n2022-11-29\\nTen west believe close.\\n743TKD\\n201.05\\nDebit\\n158183.93\\n2022-12-01\\nPoint ok create.\\n2YTQ0B\\n77.25\\nDebit\\n158106.68\\n2022-12-02\\nElse certain lose remain.\\n0Y9IGZ\\n451.55\\nCredit\\n158558.23\\n2022-12-05\\nMother knowledge break su\\nRDIEWX\\n321.4\\nCredit\\n158879.63'),\n",
              " Document(metadata={'source': '/content/drive/MyDrive/llm/bank_statement.pdf', 'page': 1}, page_content='RDIEWX\\n321.4\\nCredit\\n158879.63\\n2022-12-07\\nHuman democratic center v\\nCJO5R7\\n33.13\\nDebit\\n158846.5\\n2022-12-10\\nOffice quality decide.\\nVZ4XQX\\n61.53\\nCredit\\n158908.03\\n2022-12-10\\nLet meet son probably.\\nQJN3SX\\n23.52\\nCredit\\n158931.55\\n2022-12-10\\nResult their stay.\\n0QIXM0\\n291.48\\nDebit\\n158640.07\\n2022-12-10\\nAmong alone of bar them.\\nTWPTKY\\n361.32\\nCredit\\n159001.39\\n2022-12-10\\nOwner research he.\\nGR88IT\\n56.67\\nDebit\\n158944.72\\n2022-12-10\\nAlmost describe bring yet\\nX7LROT\\n45.93\\nCredit\\n158990.65\\n2022-12-12\\nSkill strong reach now.\\n6ZCVRE\\n371.45\\nDebit\\n158619.2'),\n",
              " Document(metadata={'source': '/content/drive/MyDrive/llm/bank_statement.pdf', 'page': 2}, page_content='Date\\nDescription\\nTrans. ID\\nAmount\\nType\\nBalance\\n2022-12-14\\nMessage one recent mean.\\nVFVD94\\n153.62\\nDebit\\n158465.58\\n2022-12-15\\nGreat stuff develop offic\\nQEK6G9\\n299.71\\nCredit\\n158765.29\\n2022-12-15\\nYear into glass visit.\\nYT3DKG\\n311.38\\nCredit\\n159076.67\\n2022-12-15\\nSuddenly under under.\\nOGR49D\\n24.87\\nCredit\\n159101.54\\n2022-12-15\\nApproach pull special.\\nQT22JL\\n325.16\\nCredit\\n159426.7\\n2022-12-15\\nShake tend century.\\n09ZWYP\\n79.54\\nDebit\\n159347.16\\n2022-12-15\\nAnyone than easy nearly t\\n6H2B52\\n123.58\\nCredit\\n159470.74\\n2022-12-16\\nThen middle address spend\\nB7472A'),\n",
              " Document(metadata={'source': '/content/drive/MyDrive/llm/bank_statement.pdf', 'page': 2}, page_content='2022-12-16\\nThen middle address spend\\nB7472A\\n480.61\\nDebit\\n158990.13\\n2022-12-16\\nInclude usually west poli\\nSAG1W8\\n136.63\\nDebit\\n158853.5\\n2022-12-16\\nEdge everybody final eith\\nU635TW\\n285.44\\nDebit\\n158568.06\\n2022-12-17\\nAlone set compare.\\nK80JYA\\n234.64\\nCredit\\n158802.7\\n2022-12-17\\nImage reveal process.\\nB3FJMA\\n206.83\\nDebit\\n158595.87\\n2022-12-18\\nApply the able decision.\\nF454TG\\n439.95\\nDebit\\n158155.92\\n2022-12-19\\nTeacher never choose.\\nQQ46T9\\n330.02\\nDebit\\n157825.9\\n2022-12-19\\nAway war claim eat pressu\\n8FWLJS\\n182.14\\nDebit\\n157643.76\\n2022-12-20'),\n",
              " Document(metadata={'source': '/content/drive/MyDrive/llm/bank_statement.pdf', 'page': 2}, page_content='8FWLJS\\n182.14\\nDebit\\n157643.76\\n2022-12-20\\nBag there air speech.\\nV0TR0I\\n18.45\\nCredit\\n157662.21\\n2022-12-20\\nEither popular anyone.\\n0TMU9L\\n105.26\\nCredit\\n157767.47\\n2022-12-20\\nPoor nice actually eviden\\nY8B65Z\\n187.53\\nDebit\\n157579.94\\n2022-12-20\\nProtect spend across.\\nDP53BS\\n382.87\\nDebit\\n157197.07\\n2022-12-21\\nSkill receive like genera\\nV7BYHG\\n137.62\\nCredit\\n157334.69\\n2022-12-21\\nFull line sound.\\nGBLBTJ\\n99.95\\nDebit\\n157234.74\\n2022-12-22\\nCentral role however in o\\nMA3PJI\\n402.46\\nDebit\\n156832.28\\n2022-12-23\\nKnow music serious list m\\n0N7V0P\\n133.37\\nDebit\\n156698.91'),\n",
              " Document(metadata={'source': '/content/drive/MyDrive/llm/bank_statement.pdf', 'page': 2}, page_content='0N7V0P\\n133.37\\nDebit\\n156698.91\\n2022-12-23\\nProperty quite bed about.\\nAL49SL\\n186.44\\nDebit\\n156512.47\\n2022-12-27\\nStation job possible nor.\\nERDYGA\\n158.31\\nDebit\\n156354.16\\n2022-12-28\\nFine base fill respond pl\\n2G76GL\\n193.64\\nCredit\\n156547.8\\n2022-12-28\\nSome budget energy despit\\nV2JRSJ\\n315.09\\nCredit\\n156862.89\\n2022-12-29\\nManager however people.\\nT62X0G\\n358.04\\nCredit\\n157220.93\\n2022-12-29\\nTake man suddenly.\\nQK9X3P\\n235.9\\nCredit\\n157456.83\\n2022-12-30\\nAdministration travel me.\\nLYKJJ9\\n447.62\\nCredit\\n157904.45\\n2022-12-30\\nEnjoy view nature than.\\nYWFDXN\\n196.17\\nDebit'),\n",
              " Document(metadata={'source': '/content/drive/MyDrive/llm/bank_statement.pdf', 'page': 2}, page_content='Enjoy view nature than.\\nYWFDXN\\n196.17\\nDebit\\n157708.28\\n2022-12-31\\nBecome price moment.\\n9NXPQR\\n478.26\\nCredit\\n158186.54\\n2022-12-31\\nGrow seek character.\\nT6KQV5\\n208.9\\nDebit\\n157977.64\\n2022-12-31\\nRace share event answer h\\n7O8QAU\\n178.11\\nCredit\\n158155.75\\n2023-01-01\\nBring suffer citizen.\\n7WURMD\\n326.59\\nCredit\\n158482.34'),\n",
              " Document(metadata={'source': '/content/drive/MyDrive/llm/bank_statement.pdf', 'page': 3}, page_content='Date\\nDescription\\nTrans. ID\\nAmount\\nType\\nBalance\\n2023-01-02\\nHe determine hand offer.\\n69KKUW\\n108.7\\nDebit\\n158373.64\\n2023-01-02\\nOld mouth officer coach.\\nJSHSCX\\n255.04\\nCredit\\n158628.68\\n2023-01-02\\nInstead almost loss.\\nT49HXW\\n215.98\\nCredit\\n158844.66\\n2023-01-03\\nView a like.\\n7YU7MO\\n369.14\\nDebit\\n158475.52\\n2023-01-03\\nTeacher minute drive husb\\n7GQN31\\n278.3\\nCredit\\n158753.82\\n2023-01-03\\nDog probably feel bit.\\n5PQD7L\\n403.83\\nDebit\\n158349.99\\n2023-01-04\\nCamera list seek catch.\\nQLNZNJ\\n409.43\\nCredit\\n158759.42\\n2023-01-04\\nFace also month region.\\nGUI8O0\\n231.57\\nCredit'),\n",
              " Document(metadata={'source': '/content/drive/MyDrive/llm/bank_statement.pdf', 'page': 3}, page_content='Face also month region.\\nGUI8O0\\n231.57\\nCredit\\n158990.99\\n2023-01-05\\nTogether over make.\\nB3H9HO\\n476.71\\nDebit\\n158514.28\\n2023-01-05\\nAsk girl make whom reason\\n56A2LT\\n407.68\\nCredit\\n158921.96\\n2023-01-06\\nOff system rock stock.\\nI0PUUM\\n50.79\\nDebit\\n158871.17\\n2023-01-06\\nReach rate cause walk.\\nU0LFHU\\n352.04\\nDebit\\n158519.13\\n2023-01-06\\nLand beat at camera.\\nA9C4FT\\n58.09\\nCredit\\n158577.22\\n2023-01-07\\nCamera blue race situatio\\n6R85Y0\\n183.93\\nDebit\\n158393.29\\n2023-01-07\\nThrough training able abl\\nWMPBT4\\n122.86\\nCredit\\n158516.15\\n2023-01-08\\nLead real life expect cas'),\n",
              " Document(metadata={'source': '/content/drive/MyDrive/llm/bank_statement.pdf', 'page': 3}, page_content='158516.15\\n2023-01-08\\nLead real life expect cas\\nWB84HI\\n78.51\\nCredit\\n158594.66\\n2023-01-08\\nReturn thank agent finish\\n3RWFQQ\\n149.29\\nCredit\\n158743.95\\n2023-01-08\\nContinue ten candidate.\\nMG0TL1\\n92.91\\nCredit\\n158836.86\\n2023-01-09\\nPull policy tonight lose.\\nRGTMT5\\n428.74\\nCredit\\n159265.6\\n2023-01-09\\nHappy lawyer door.\\n4Z2IH1\\n479.09\\nCredit\\n159744.69\\n2023-01-09\\nSmall let crime culture.\\nDUE4PJ\\n335.93\\nCredit\\n160080.62\\n2023-01-09\\nCoach me provide national\\nIBX1NU\\n46.99\\nCredit\\n160127.61\\n2023-01-10\\nView business account gir\\nCXI43M\\n445.01\\nCredit\\n160572.62'),\n",
              " Document(metadata={'source': '/content/drive/MyDrive/llm/bank_statement.pdf', 'page': 3}, page_content='CXI43M\\n445.01\\nCredit\\n160572.62\\n2023-01-10\\nRich blood live unit.\\nEDUTOT\\n110.61\\nCredit\\n160683.23\\n2023-01-10\\nCall loss trial.\\n0IDPQU\\n177.89\\nDebit\\n160505.34\\n2023-01-10\\nUntil lay ready prevent m\\nXMVT2Z\\n178.19\\nCredit\\n160683.53\\n2023-01-11\\nMyself must wait couple.\\nGGD8UE\\n406.74\\nCredit\\n161090.27\\n2023-01-12\\nDoor strategy fire addres\\nUGNE2C\\n69.4\\nCredit\\n161159.67\\n2023-01-12\\nRange plant available stu\\n52UY1A\\n332.85\\nCredit\\n161492.52\\n2023-01-12\\nVisit mention whom educat\\nD78VJD\\n365.93\\nDebit\\n161126.59\\n2023-01-13\\nChurch daughter be stop.\\n38S7UH\\n327.92\\nDebit'),\n",
              " Document(metadata={'source': '/content/drive/MyDrive/llm/bank_statement.pdf', 'page': 3}, page_content='Church daughter be stop.\\n38S7UH\\n327.92\\nDebit\\n160798.67\\n2023-01-13\\nTv couple throw.\\nCY74VF\\n431.27\\nCredit\\n161229.94\\n2023-01-13\\nScientist nature here hea\\nOXGZMO\\n484.57\\nDebit\\n160745.37\\n2023-01-14\\nDream thought give base.\\nJHV4VQ\\n357.43\\nDebit\\n160387.94\\n2023-01-15\\nKeep book billion entire.\\nFQ5TKL\\n482.11\\nCredit\\n160870.05'),\n",
              " Document(metadata={'source': '/content/drive/MyDrive/llm/bank_statement.pdf', 'page': 4}, page_content='Date\\nDescription\\nTrans. ID\\nAmount\\nType\\nBalance\\n2023-01-16\\nCover eye more no.\\nAXF19U\\n452.7\\nDebit\\n160417.35\\n2023-01-19\\nInstead cut tend ahead.\\nRNYU5A\\n282.5\\nDebit\\n160134.85\\n2023-01-24\\nBox help near power.\\n7LP78K\\n467.31\\nCredit\\n160602.16\\n2023-01-26\\nAll mention girl recogniz\\nYMQ52R\\n342.05\\nCredit\\n160944.21\\n2023-01-27\\nCertain baby voice seat.\\nU7FUEB\\n287.36\\nCredit\\n161231.57\\n2023-01-30\\nSecurity standard yes rea\\nWXC3ZN\\n267.89\\nCredit\\n161499.46\\n2023-01-31\\nLife parent option oil.\\nMUE258\\n96.64\\nDebit\\n161402.82\\n2023-01-31\\nThese like off amount.\\nJHRRY2\\n283.39'),\n",
              " Document(metadata={'source': '/content/drive/MyDrive/llm/bank_statement.pdf', 'page': 4}, page_content='2023-01-31\\nThese like off amount.\\nJHRRY2\\n283.39\\nDebit\\n161119.43\\n2023-02-01\\nMusic happen paper way ch\\n36SYYI\\n178.34\\nDebit\\n160941.09\\n2023-02-01\\nSpend blood remember reve\\nBL9CNJ\\n468.06\\nDebit\\n160473.03\\n2023-02-01\\nSimilar view media.\\nB1D6UK\\n115.94\\nDebit\\n160357.09\\n2023-02-01\\nEnough of listen.\\nGD9HNR\\n7.29\\nCredit\\n160364.38\\n2023-02-02\\nTruth about meet.\\nFARNYW\\n37.36\\nCredit\\n160401.74\\n2023-02-03\\nYes direction real strong\\n7X36R5\\n282.07\\nDebit\\n160119.67\\n2023-02-04\\nStatement change my sure.\\nM373R1\\n269.86\\nDebit\\n159849.81\\n2023-02-05\\nStep message management.'),\n",
              " Document(metadata={'source': '/content/drive/MyDrive/llm/bank_statement.pdf', 'page': 4}, page_content='159849.81\\n2023-02-05\\nStep message management.\\n8ZC5J3\\n319.5\\nDebit\\n159530.31\\n2023-02-06\\nSit talk cause political.\\n0M40Q8\\n262.23\\nDebit\\n159268.08\\n2023-02-07\\nPosition ask you than rel\\nPKO95O\\n23.6\\nDebit\\n159244.48\\n2023-02-07\\nMaybe born baby a very.\\nFP28L3\\n136.21\\nDebit\\n159108.27\\n2023-02-10\\nTruth yes modern out.\\nBCCO37\\n481.41\\nDebit\\n158626.86\\n2023-02-10\\nPosition north ok.\\n1FBJVV\\n474.23\\nCredit\\n159101.09\\n2023-02-11\\nRange media authority day\\nH2IF54\\n257.66\\nDebit\\n158843.43\\n2023-02-11\\nEasy describe add option.\\nSKDDP4\\n179.8\\nDebit\\n158663.63\\n2023-02-11'),\n",
              " Document(metadata={'source': '/content/drive/MyDrive/llm/bank_statement.pdf', 'page': 4}, page_content='SKDDP4\\n179.8\\nDebit\\n158663.63\\n2023-02-11\\nEnough first man.\\nPBDI24\\n235.99\\nCredit\\n158899.62\\n2023-02-12\\nCouple admit us.\\nUZVHXK\\n86.66\\nDebit\\n158812.96\\n2023-02-12\\nEdge its technology spend\\nKLSTD4\\n450.34\\nCredit\\n159263.3\\n2023-02-13\\nIdea even kid year.\\nXBS0FR\\n231.04\\nCredit\\n159494.34\\n2023-02-13\\nSenior experience per hea\\n173T53\\n395.41\\nCredit\\n159889.75\\n2023-02-13\\nPattern form pass bed.\\n8ZPC9A\\n88.9\\nDebit\\n159800.85\\n2023-02-13\\nAbove whatever call.\\nIMX09D\\n349.07\\nCredit\\n160149.92\\n2023-02-13\\nTeach participant so argu\\nVIF6QV\\n139.53\\nDebit\\n160010.39\\n2023-02-13'),\n",
              " Document(metadata={'source': '/content/drive/MyDrive/llm/bank_statement.pdf', 'page': 4}, page_content='VIF6QV\\n139.53\\nDebit\\n160010.39\\n2023-02-13\\nType every life material \\n6QAFH3\\n86.82\\nCredit\\n160097.21\\n2023-02-15\\nReally everything cause h\\nVZKDNX\\n441.76\\nCredit\\n160538.97\\n2023-02-17\\nThey play look.\\nKCWGP6\\n432.27\\nDebit\\n160106.7\\n2023-02-17\\nStuff such provide.\\nMQX87A\\n235.09\\nDebit\\n159871.61'),\n",
              " Document(metadata={'source': '/content/drive/MyDrive/llm/bank_statement.pdf', 'page': 5}, page_content='Date\\nDescription\\nTrans. ID\\nAmount\\nType\\nBalance\\n2023-02-18\\nUntil be sell fast.\\n6VH9XW\\n331.91\\nDebit\\n159539.7\\n2023-02-19\\nCut hear write practice c\\nOU7A85\\n298.6\\nDebit\\n159241.1\\n2023-02-19\\nIn senior discuss.\\nX2OOWA\\n209.61\\nCredit\\n159450.71\\n2023-02-19\\nSafe claim rather enjoy.\\nMIXCNN\\n110.42\\nCredit\\n159561.13\\n2023-02-19\\nScience style pass middle\\nMQVM3I\\n473.56\\nDebit\\n159087.57\\n2023-02-21\\nFour evening measure room\\n0C39FN\\n380.77\\nDebit\\n158706.8\\n2023-02-22\\nInstitution light entire.\\nIWDC65\\n238.41\\nDebit\\n158468.39\\n2023-02-23\\nLay if feel mother so.\\nA5RRRP\\n113.19'),\n",
              " Document(metadata={'source': '/content/drive/MyDrive/llm/bank_statement.pdf', 'page': 5}, page_content='2023-02-23\\nLay if feel mother so.\\nA5RRRP\\n113.19\\nDebit\\n158355.2\\n2023-02-23\\nUnit sister myself profes\\n0280UQ\\n56.36\\nDebit\\n158298.84\\n2023-02-23\\nCourt old statement goal.\\nXESN1Z\\n240.1\\nCredit\\n158538.94\\n2023-02-24\\nMaintain she born.\\nQWDNXP\\n131.2\\nCredit\\n158670.14\\n2023-02-24\\nToday positive school gir\\nFGSAOT\\n303.56\\nDebit\\n158366.58\\n2023-02-24\\nNothing media law rest.\\nS21VLG\\n159.46\\nDebit\\n158207.12\\n2023-02-25\\nStreet street guy.\\nY9TGQP\\n230.0\\nDebit\\n157977.12\\n2023-02-26\\nBar relationship first wi\\nPZXRDQ\\n61.81\\nCredit\\n158038.93\\n2023-02-26\\nNorth young new poor.'),\n",
              " Document(metadata={'source': '/content/drive/MyDrive/llm/bank_statement.pdf', 'page': 5}, page_content='Credit\\n158038.93\\n2023-02-26\\nNorth young new poor.\\nSCAYZR\\n336.14\\nDebit\\n157702.79\\n2023-02-26\\nForm unit such main girl.\\nI6RWIK\\n73.44\\nCredit\\n157776.23\\n2023-02-26\\nColor quality measure fie\\nMC7ULH\\n468.57\\nCredit\\n158244.8\\n2023-02-28\\nBest sure between heart.\\nKJ9QE8\\n89.8\\nCredit\\n158334.6\\n2023-02-28\\nNatural today we.\\n2NMI1S\\n200.02\\nCredit\\n158534.62\\n2023-02-28\\nSell option pull not so.\\nDOLEO7\\n155.91\\nCredit\\n158690.53\\n2023-03-01\\nScene kitchen treat vote.\\nPM5NPC\\n192.62\\nCredit\\n158883.15\\n2023-03-02\\nTalk degree another billi\\nT6HMZ5\\n142.35\\nDebit\\n158740.8\\n2023-03-03'),\n",
              " Document(metadata={'source': '/content/drive/MyDrive/llm/bank_statement.pdf', 'page': 5}, page_content='T6HMZ5\\n142.35\\nDebit\\n158740.8\\n2023-03-03\\nThe no building these.\\nW9GESC\\n310.63\\nDebit\\n158430.17\\n2023-03-04\\nKnowledge watch out soldi\\nMPSBBH\\n250.12\\nCredit\\n158680.29\\n2023-03-05\\nLight large doctor.\\nKCZELH\\n213.89\\nCredit\\n158894.18\\n2023-03-05\\nMemory owner must togethe\\nPT25FG\\n445.57\\nDebit\\n158448.61\\n2023-03-06\\nMajority hear instead sha\\n90QTLY\\n384.12\\nDebit\\n158064.49\\n2023-03-08\\nChair though blue thus.\\n9H2YRG\\n51.74\\nCredit\\n158116.23\\n2023-03-08\\nShe expect rule move.\\n5LHI19\\n14.78\\nCredit\\n158131.01\\n2023-03-09\\nOver where home.\\nX3B8F2\\n422.84\\nDebit\\n157708.17'),\n",
              " Document(metadata={'source': '/content/drive/MyDrive/llm/bank_statement.pdf', 'page': 5}, page_content='Over where home.\\nX3B8F2\\n422.84\\nDebit\\n157708.17\\n2023-03-11\\nEnergy board ready.\\n3RSP0G\\n227.24\\nDebit\\n157480.93\\n2023-03-12\\nRight early throughout.\\nGB4W7L\\n336.6\\nDebit\\n157144.33\\n2023-03-12\\nTreatment can unit art.\\nFVZB27\\n242.71\\nCredit\\n157387.04\\n2023-03-13\\nStock effect hospital pro\\n1HRSPL\\n363.78\\nDebit\\n157023.26'),\n",
              " Document(metadata={'source': '/content/drive/MyDrive/llm/bank_statement.pdf', 'page': 6}, page_content='Date\\nDescription\\nTrans. ID\\nAmount\\nType\\nBalance\\n2023-03-14\\nIf assume fire computer h\\nBRSSU4\\n307.94\\nDebit\\n156715.32\\n2023-03-15\\nAcross outside give first\\nH5VNN0\\n438.94\\nDebit\\n156276.38\\n2023-03-16\\nOccur big than pass.\\nBGI32G\\n408.38\\nDebit\\n155868.0\\n2023-03-16\\nTry seek opportunity kind\\n7E1ZAB\\n178.77\\nDebit\\n155689.23\\n2023-03-18\\nSort girl fact.\\nIJG5EC\\n450.35\\nCredit\\n156139.58\\n2023-03-19\\nCheck onto wide.\\n2AZ661\\n180.26\\nCredit\\n156319.84\\n2023-03-20\\nWhom develop friend.\\nV3UCHD\\n152.29\\nDebit\\n156167.55\\n2023-03-20\\nEspecially rate much coun\\nFLWIPF\\n428.95\\nCredit'),\n",
              " Document(metadata={'source': '/content/drive/MyDrive/llm/bank_statement.pdf', 'page': 6}, page_content='Especially rate much coun\\nFLWIPF\\n428.95\\nCredit\\n156596.5\\n2023-03-22\\nSection ten manage sing.\\nK3BTOH\\n433.46\\nDebit\\n156163.04\\n2023-03-22\\nPeace news relate rate.\\nLINSC9\\n419.46\\nCredit\\n156582.5\\n2023-03-23\\nFederal only close.\\nQ56RZ2\\n489.05\\nCredit\\n157071.55\\n2023-03-24\\nFather class goal fly adm\\nCPKMJ6\\n448.66\\nCredit\\n157520.21\\n2023-03-24\\nSouth pick it.\\n4JORXR\\n454.59\\nCredit\\n157974.8\\n2023-03-25\\nShow also sense light wor\\nERG4MJ\\n365.94\\nDebit\\n157608.86\\n2023-03-25\\nKey around sport cost bas\\nSGZBP0\\n102.54\\nDebit\\n157506.32\\n2023-03-26\\nPeople economy act fact m'),\n",
              " Document(metadata={'source': '/content/drive/MyDrive/llm/bank_statement.pdf', 'page': 6}, page_content='157506.32\\n2023-03-26\\nPeople economy act fact m\\n2Y9DH6\\n37.51\\nDebit\\n157468.81\\n2023-03-26\\nHealth feeling large serv\\nQDH08I\\n73.04\\nDebit\\n157395.77\\n2023-03-26\\nHospital economic miss.\\n0U5TU3\\n329.64\\nCredit\\n157725.41\\n2023-03-27\\nHappy board son.\\nMJ5TUR\\n192.23\\nDebit\\n157533.18\\n2023-03-27\\nWait either stop true sto\\nNXVQ24\\n287.98\\nDebit\\n157245.2\\n2023-03-27\\nPast major your head.\\n3MQ1FR\\n25.7\\nDebit\\n157219.5\\n2023-03-27\\nAccording describe candid\\nPDIZ82\\n184.22\\nCredit\\n157403.72\\n2023-03-27\\nMajor PM wife opportunity\\nAXN32H\\n345.17\\nCredit\\n157748.89\\n2023-03-28'),\n",
              " Document(metadata={'source': '/content/drive/MyDrive/llm/bank_statement.pdf', 'page': 6}, page_content='AXN32H\\n345.17\\nCredit\\n157748.89\\n2023-03-28\\nWord until whose pressure\\n2M1XYG\\n463.72\\nCredit\\n158212.61\\n2023-03-28\\nNews watch thus bill.\\n3S7CD6\\n109.54\\nDebit\\n158103.07\\n2023-04-02\\nSpeak exist husband.\\nY6YYC1\\n389.23\\nCredit\\n158492.3\\n2023-04-03\\nSecurity eat term finally\\nYV0UW5\\n385.04\\nDebit\\n158107.26\\n2023-04-04\\nWay reality building.\\nN6EPXT\\n409.89\\nDebit\\n157697.37\\n2023-04-04\\nTo hold east.\\nFW83CE\\n318.1\\nCredit\\n158015.47\\n2023-04-06\\nBag how now expert smile.\\n5OFVRL\\n58.84\\nCredit\\n158074.31\\n2023-04-07\\nRace oil tree month ago.\\nCH8GR9\\n90.26\\nCredit\\n158164.57'),\n",
              " Document(metadata={'source': '/content/drive/MyDrive/llm/bank_statement.pdf', 'page': 6}, page_content='CH8GR9\\n90.26\\nCredit\\n158164.57\\n2023-04-08\\nReach group provide.\\nSETCBC\\n469.01\\nCredit\\n158633.58\\n2023-04-08\\nBody page hour key list.\\n57EQ8S\\n49.62\\nDebit\\n158583.96\\n2023-04-09\\nThis bring whether.\\n4H93Z4\\n366.43\\nDebit\\n158217.53\\n2023-04-10\\nCollege blood computer se\\n152VVB\\n268.87\\nCredit\\n158486.4'),\n",
              " Document(metadata={'source': '/content/drive/MyDrive/llm/bank_statement.pdf', 'page': 7}, page_content='Date\\nDescription\\nTrans. ID\\nAmount\\nType\\nBalance\\n2023-04-11\\nOpen card almost eye.\\nPHN46C\\n168.38\\nCredit\\n158654.78\\n2023-04-11\\nRelate cell above.\\nXCU13L\\n497.17\\nCredit\\n159151.95\\n2023-04-12\\nStart strategy message.\\nMU7JMH\\n80.74\\nCredit\\n159232.69\\n2023-04-13\\nBefore do push mean campa\\nS1UD9P\\n441.16\\nCredit\\n159673.85\\n2023-04-13\\nPower race others hear.\\n24RX8V\\n90.09\\nDebit\\n159583.76\\n2023-04-14\\nProvide there foot necess\\nWMC5B4\\n226.23\\nDebit\\n159357.53\\n2023-04-14\\nAhead offer physical.\\nUK529S\\n358.62\\nDebit\\n158998.91\\n2023-04-15\\nOn key real. Pull even ex\\n9IQ2UX\\n188.8'),\n",
              " Document(metadata={'source': '/content/drive/MyDrive/llm/bank_statement.pdf', 'page': 7}, page_content='2023-04-15\\nOn key real. Pull even ex\\n9IQ2UX\\n188.8\\nDebit\\n158810.11\\n2023-04-16\\nHand quickly letter vario\\nX0SMAW\\n47.05\\nDebit\\n158763.06\\n2023-04-16\\nPast after huge strong.\\nGKAG8J\\n194.04\\nDebit\\n158569.02\\n2023-04-16\\nField student responsibil\\nJZ4446\\n47.4\\nCredit\\n158616.42\\n2023-04-16\\nMan change surface end.\\nES7VSZ\\n398.47\\nCredit\\n159014.89\\n2023-04-17\\nPlan collection degree.\\n1K21GS\\n357.79\\nCredit\\n159372.68\\n2023-04-17\\nLeg company type plan.\\n3Y2NBN\\n479.52\\nDebit\\n158893.16\\n2023-04-18\\nHelp stage hold race.\\nKTQ3S0\\n90.46\\nDebit\\n158802.7\\n2023-04-19'),\n",
              " Document(metadata={'source': '/content/drive/MyDrive/llm/bank_statement.pdf', 'page': 7}, page_content='KTQ3S0\\n90.46\\nDebit\\n158802.7\\n2023-04-19\\nHere hot win best power.\\nDALL3M\\n237.01\\nCredit\\n159039.71\\n2023-04-19\\nElection happen result a.\\n1ASG6D\\n66.95\\nDebit\\n158972.76\\n2023-04-20\\nBack family field state.\\nIZNE3X\\n137.19\\nCredit\\n159109.95\\n2023-04-23\\nCarry church thing simply\\nCTLCNS\\n220.67\\nDebit\\n158889.28\\n2023-04-23\\nMrs effort alone.\\n9JVX2X\\n105.05\\nCredit\\n158994.33\\n2023-04-23\\nVisit give film explain p\\nGXRCF0\\n196.34\\nCredit\\n159190.67\\n2023-04-24\\nFast serve to indeed now.\\nAFWST8\\n372.42\\nCredit\\n159563.09\\n2023-04-25\\nJob whom memory Congress.\\nEVUMEF\\n85.68\\nDebit'),\n",
              " Document(metadata={'source': '/content/drive/MyDrive/llm/bank_statement.pdf', 'page': 7}, page_content='Job whom memory Congress.\\nEVUMEF\\n85.68\\nDebit\\n159477.41\\n2023-04-27\\nJust rate yes.\\n03YZG9\\n398.1\\nCredit\\n159875.51\\n2023-04-29\\nOff early view focus.\\n9ME331\\n18.79\\nCredit\\n159894.3\\n2023-04-30\\nSimilar account sense.\\n2C31JT\\n425.04\\nDebit\\n159469.26\\n2023-04-30\\nDeep majority join drive.\\nZQ4X2K\\n101.93\\nDebit\\n159367.33\\n2023-05-01\\nFirm action southern safe\\nUTSY5J\\n18.93\\nCredit\\n159386.26\\n2023-05-01\\nBeyond bed study seem.\\n0HDVTK\\n90.51\\nCredit\\n159476.77\\n2023-05-04\\nSite develop fish lead.\\nBP3166\\n167.01\\nCredit\\n159643.78\\n2023-05-04\\nBlood admit nearly cost.\\nAHSROP\\n40.82'),\n",
              " Document(metadata={'source': '/content/drive/MyDrive/llm/bank_statement.pdf', 'page': 7}, page_content='2023-05-04\\nBlood admit nearly cost.\\nAHSROP\\n40.82\\nDebit\\n159602.96\\n2023-05-05\\nMilitary expert under lis\\nZC70JB\\n111.13\\nDebit\\n159491.83\\n2023-05-05\\nDiscover hour personal wi\\nLO7MOH\\n255.87\\nCredit\\n159747.7\\n2023-05-06\\nThan special worry.\\nT1ZRU1\\n42.42\\nDebit\\n159705.28\\n2023-05-06\\nSituation threat season s\\nUBH1K9\\n420.0\\nCredit\\n160125.28'),\n",
              " Document(metadata={'source': '/content/drive/MyDrive/llm/bank_statement.pdf', 'page': 8}, page_content='Date\\nDescription\\nTrans. ID\\nAmount\\nType\\nBalance\\n2023-05-07\\nMy answer able model real\\nELN3ZE\\n260.51\\nDebit\\n159864.77\\n2023-05-07\\nWin Mrs value none.\\nLNT05Y\\n390.26\\nCredit\\n160255.03\\n2023-05-09\\nStuff focus on seat.\\nSYQSCE\\n389.87\\nDebit\\n159865.16\\n2023-05-09\\nPicture order same up.\\nZ6KTUW\\n327.8\\nCredit\\n160192.96\\n2023-05-09\\nSay three science cell.\\n3E1KPJ\\n174.09\\nDebit\\n160018.87\\n2023-05-10\\nUnder expect far play.\\nEIS73K\\n125.59\\nCredit\\n160144.46\\n2023-05-10\\nSure or learn conference.\\nXMGE38\\n123.21\\nDebit\\n160021.25\\n2023-05-11\\nHave expect leave number.\\nCBEOEG\\n177.61'),\n",
              " Document(metadata={'source': '/content/drive/MyDrive/llm/bank_statement.pdf', 'page': 8}, page_content='Have expect leave number.\\nCBEOEG\\n177.61\\nDebit\\n159843.64\\n2023-05-13\\nMuch stock force.\\n4V9I6L\\n119.42\\nCredit\\n159963.06\\n2023-05-13\\nFoot likely Republican.\\nCNBRDI\\n412.03\\nCredit\\n160375.09\\n2023-05-13\\nTv within ever.\\nXFCI69\\n309.26\\nCredit\\n160684.35\\n2023-05-14\\nHot certain power return.\\nOTW1FM\\n51.43\\nDebit\\n160632.92\\n2023-05-15\\nNorth consumer whole in.\\n7TCG6R\\n5.96\\nCredit\\n160638.88\\n2023-05-17\\nCurrent economy cold push\\n408SHM\\n344.23\\nCredit\\n160983.11\\n2023-05-17\\nThus player alone.\\nQKNTHG\\n318.57\\nCredit\\n161301.68\\n2023-05-17\\nPosition catch fish.\\nMJNE11\\n234.86'),\n",
              " Document(metadata={'source': '/content/drive/MyDrive/llm/bank_statement.pdf', 'page': 8}, page_content='2023-05-17\\nPosition catch fish.\\nMJNE11\\n234.86\\nDebit\\n161066.82\\n2023-05-18\\nHelp treat back way poor.\\nG88HX5\\n245.24\\nDebit\\n160821.58\\n2023-05-19\\nPrice space learn black r\\nD3DPAH\\n234.89\\nDebit\\n160586.69\\n2023-05-21\\nWithin why Mrs.\\nOFA1CG\\n183.89\\nCredit\\n160770.58\\n2023-05-21\\nTrial off card receive.\\nS18AWK\\n381.55\\nCredit\\n161152.13\\n2023-05-21\\nProperty region alone.\\nQ74N4E\\n389.04\\nDebit\\n160763.09\\n2023-05-21\\nHundred book drug keep.\\nVEKXWA\\n75.7\\nCredit\\n160838.79\\n2023-05-23\\nRate sound degree concern\\n6KZ6T8\\n461.47\\nCredit\\n161300.26\\n2023-05-25'),\n",
              " Document(metadata={'source': '/content/drive/MyDrive/llm/bank_statement.pdf', 'page': 8}, page_content='6KZ6T8\\n461.47\\nCredit\\n161300.26\\n2023-05-25\\nPick nation statement wis\\nJRX1LL\\n330.33\\nCredit\\n161630.59\\n2023-05-25\\nFoot line fill personal.\\n2353F4\\n175.46\\nCredit\\n161806.05\\n2023-05-26\\nRoad easy heavy say world\\nDT47EF\\n402.99\\nCredit\\n162209.04\\n2023-05-26\\nFill current example stuf\\nL3TLKL\\n392.61\\nCredit\\n162601.65\\n2023-05-27\\nWriter go war quickly.\\nRI8ECB\\n329.4\\nCredit\\n162931.05\\n2023-05-28\\nSometimes market want fig\\nIM13TX\\n206.71\\nCredit\\n163137.76\\n2023-05-29\\nOpen development add.\\nEBIZX0\\n30.66\\nCredit\\n163168.42\\n2023-05-29\\nGrowth many vote unit voi\\nWV032Y\\n337.08'),\n",
              " Document(metadata={'source': '/content/drive/MyDrive/llm/bank_statement.pdf', 'page': 8}, page_content='Growth many vote unit voi\\nWV032Y\\n337.08\\nCredit\\n163505.5\\n2023-05-29\\nUsually stuff really.\\nLM0CVO\\n235.17\\nCredit\\n163740.67\\n2023-05-29\\nYourself stop effort.\\n73ZXRN\\n226.89\\nDebit\\n163513.78\\n2023-05-30\\nYet wide before.\\n3URCH9\\n203.68\\nDebit\\n163310.1\\n2023-05-30\\nLong central back loss.\\nJN3RHQ\\n280.57\\nDebit\\n163029.53'),\n",
              " Document(metadata={'source': '/content/drive/MyDrive/llm/bank_statement.pdf', 'page': 9}, page_content='Date\\nDescription\\nTrans. ID\\nAmount\\nType\\nBalance\\n2023-05-30\\nDecide sister pass becaus\\nN0WE2Q\\n377.45\\nCredit\\n163406.98\\n2023-05-30\\nOften not the stand.\\nWSIL5R\\n150.15\\nDebit\\n163256.83\\n2023-05-30\\nHundred attorney environm\\n7M482U\\n385.37\\nDebit\\n162871.46\\n2023-06-01\\nThree growth when dinner.\\nXYZXAV\\n414.59\\nDebit\\n162456.87\\n2023-06-02\\nWife reflect during posit\\nHGRZ8Y\\n177.96\\nCredit\\n162634.83\\n2023-06-03\\nDrop both seek discussion\\nFYP0HO\\n383.29\\nDebit\\n162251.54\\n2023-06-03\\nDream mother exactly like\\nPYC2JP\\n31.2\\nDebit\\n162220.34\\n2023-06-03\\nDebate vote others change'),\n",
              " Document(metadata={'source': '/content/drive/MyDrive/llm/bank_statement.pdf', 'page': 9}, page_content='162220.34\\n2023-06-03\\nDebate vote others change\\n0K9BJ7\\n96.86\\nCredit\\n162317.2\\n2023-06-04\\nNow nature apply employee\\nMFJDG1\\n485.72\\nCredit\\n162802.92\\n2023-06-05\\nStory need enjoy.\\nFCMK33\\n55.91\\nCredit\\n162858.83\\n2023-06-06\\nFormer great step century\\nCB9VQV\\n371.6\\nDebit\\n162487.23\\n2023-06-06\\nWoman modern plant its se\\nKC8Q8E\\n162.85\\nCredit\\n162650.08\\n2023-06-06\\nPrice couple before.\\nZ4XR70\\n485.43\\nDebit\\n162164.65\\n2023-06-06\\nReturn leader hit above.\\nCN64JM\\n132.26\\nCredit\\n162296.91\\n2023-06-07\\nAlong movement build figh\\n43BBK8\\n449.49\\nDebit\\n161847.42\\n2023-06-07'),\n",
              " Document(metadata={'source': '/content/drive/MyDrive/llm/bank_statement.pdf', 'page': 9}, page_content='43BBK8\\n449.49\\nDebit\\n161847.42\\n2023-06-07\\nIndividual team since ret\\nOVRYS6\\n17.8\\nDebit\\n161829.62\\n2023-06-07\\nOff as mean. Boy ok evide\\nDN87GL\\n311.65\\nCredit\\n162141.27\\n2023-06-08\\nCause instead buy.\\nKYD3UN\\n302.35\\nDebit\\n161838.92\\n2023-06-10\\nStrong miss short manage.\\nH7DSW4\\n171.09\\nCredit\\n162010.01\\n2023-06-10\\nDuring his possible messa\\nME0Y3B\\n62.07\\nCredit\\n162072.08\\n2023-06-10\\nLevel pressure return for\\nO2WB15\\n432.11\\nCredit\\n162504.19\\n2023-06-10\\nFocus ever ten likely.\\nQJBOYV\\n484.39\\nCredit\\n162988.58\\n2023-06-11\\nEntire artist choose.\\nO26G5A\\n247.66\\nDebit'),\n",
              " Document(metadata={'source': '/content/drive/MyDrive/llm/bank_statement.pdf', 'page': 9}, page_content='Entire artist choose.\\nO26G5A\\n247.66\\nDebit\\n162740.92\\n2023-06-11\\nFly candidate store black\\nSDJP9Z\\n231.43\\nDebit\\n162509.49\\n2023-06-12\\nThan raise store.\\nAO610M\\n112.86\\nDebit\\n162396.63\\n2023-06-15\\nDevelop tonight charge ju\\nYZNJU7\\n109.85\\nCredit\\n162506.48\\n2023-06-15\\nSport about carry face fi\\n2QKMWA\\n114.07\\nCredit\\n162620.55\\n2023-06-16\\nDoor American voice accep\\nVLFIPW\\n199.19\\nCredit\\n162819.74\\n2023-06-18\\nFood left parent.\\n0NLFAX\\n236.4\\nCredit\\n163056.14\\n2023-06-18\\nHimself realize cover.\\n69XLA3\\n383.71\\nCredit\\n163439.85\\n2023-06-19\\nHome year store skin rang\\nNO4UNY'),\n",
              " Document(metadata={'source': '/content/drive/MyDrive/llm/bank_statement.pdf', 'page': 9}, page_content='2023-06-19\\nHome year store skin rang\\nNO4UNY\\n457.08\\nCredit\\n163896.93\\n2023-06-19\\nWife floor born productio\\nYSJ7EJ\\n147.37\\nCredit\\n164044.3\\n2023-06-19\\nSurface but point.\\nQLLLQQ\\n54.93\\nCredit\\n164099.23\\n2023-06-20\\nKnow on manager appear fe\\n7PQESC\\n481.99\\nCredit\\n164581.22\\n2023-06-21\\nCause write certain up ne\\n0OCN50\\n427.01\\nCredit\\n165008.23'),\n",
              " Document(metadata={'source': '/content/drive/MyDrive/llm/bank_statement.pdf', 'page': 10}, page_content='Date\\nDescription\\nTrans. ID\\nAmount\\nType\\nBalance\\n2023-06-21\\nArt between south.\\nXZB1VI\\n439.18\\nDebit\\n164569.05\\n2023-06-22\\nPeople let occur economic\\nSW6D1X\\n373.7\\nDebit\\n164195.35\\n2023-06-23\\nAuthority list bag.\\nJBP54K\\n212.91\\nCredit\\n164408.26\\n2023-06-24\\nEvidence heavy bed him so\\nFDM05D\\n57.74\\nCredit\\n164466.0\\n2023-06-27\\nSimilar hold such wonder.\\n5SXS4I\\n289.12\\nDebit\\n164176.88\\n2023-06-28\\nColor house recently.\\nCVYV2A\\n418.24\\nDebit\\n163758.64\\n2023-06-30\\nBecome own model.\\nSR0RQW\\n205.4\\nDebit\\n163553.24\\n2023-06-30\\nMaintain few day serve mi\\nVUQYCS\\n400.55\\nDebit'),\n",
              " Document(metadata={'source': '/content/drive/MyDrive/llm/bank_statement.pdf', 'page': 10}, page_content='Maintain few day serve mi\\nVUQYCS\\n400.55\\nDebit\\n163152.69\\n2023-06-30\\nSize right leg exist watc\\nZLNVAN\\n208.52\\nCredit\\n163361.21\\n2023-07-01\\nFrom art reduce politics.\\n9M630K\\n238.94\\nCredit\\n163600.15\\n2023-07-02\\nLeader during industry.\\n730MU7\\n407.45\\nCredit\\n164007.6\\n2023-07-03\\nCentury also we let.\\nAVESJC\\n346.63\\nCredit\\n164354.23\\n2023-07-03\\nParent worker worry someb\\nPAFESA\\n301.72\\nDebit\\n164052.51\\n2023-07-03\\nIndustry crime ten stage.\\nP2X9F7\\n75.82\\nCredit\\n164128.33\\n2023-07-05\\nFine little memory until.\\n81WRJ2\\n466.98\\nDebit\\n163661.35\\n2023-07-06'),\n",
              " Document(metadata={'source': '/content/drive/MyDrive/llm/bank_statement.pdf', 'page': 10}, page_content='81WRJ2\\n466.98\\nDebit\\n163661.35\\n2023-07-06\\nBack present rise rise li\\nVJ543O\\n302.5\\nCredit\\n163963.85\\n2023-07-06\\nTrip number than question\\nE758JQ\\n160.72\\nCredit\\n164124.57\\n2023-07-06\\nDemocrat tree father.\\nL6U68U\\n171.38\\nDebit\\n163953.19\\n2023-07-07\\nShare store foot still fa\\nJNX1J9\\n250.21\\nCredit\\n164203.4\\n2023-07-07\\nVery night hour water.\\n2LKVVF\\n346.93\\nCredit\\n164550.33\\n2023-07-08\\nBlack plant American shor\\nPCICQM\\n260.32\\nCredit\\n164810.65\\n2023-07-11\\nFriend stuff book.\\n42QB6Z\\n417.21\\nDebit\\n164393.44\\n2023-07-11\\nCondition key push soldie\\n8AIZOE\\n454.31\\nDebit'),\n",
              " Document(metadata={'source': '/content/drive/MyDrive/llm/bank_statement.pdf', 'page': 10}, page_content='Condition key push soldie\\n8AIZOE\\n454.31\\nDebit\\n163939.13\\n2023-07-11\\nBuy pay among defense.\\nUHDQL2\\n48.8\\nCredit\\n163987.93\\n2023-07-12\\nOften white heavy.\\nHFYWVI\\n55.77\\nCredit\\n164043.7\\n2023-07-12\\nRoom tax water follow dog\\nIGKPVO\\n403.58\\nCredit\\n164447.28\\n2023-07-12\\nMouth activity relate.\\nTVQYGE\\n425.88\\nDebit\\n164021.4\\n2023-07-13\\nBe southern nature window\\nWM8X0O\\n30.31\\nDebit\\n163991.09\\n2023-07-13\\nNote else Mr two conferen\\nH7OX1Q\\n340.99\\nDebit\\n163650.1\\n2023-07-14\\nScientist choice oil cent\\n5FPMC2\\n202.56\\nCredit\\n163852.66\\n2023-07-14\\nEnough fast him.\\nA72966'),\n",
              " Document(metadata={'source': '/content/drive/MyDrive/llm/bank_statement.pdf', 'page': 10}, page_content='163852.66\\n2023-07-14\\nEnough fast him.\\nA72966\\n287.39\\nDebit\\n163565.27\\n2023-07-16\\nAgainst bar wind at far.\\nYE4S2D\\n464.21\\nCredit\\n164029.48\\n2023-07-17\\nProduce Republican check \\nCX4O5X\\n341.93\\nCredit\\n164371.41\\n2023-07-18\\nConsumer own key.\\nS41CNV\\n82.3\\nDebit\\n164289.11\\n2023-07-19\\nChild concern record sinc\\nQZR01R\\n240.01\\nDebit\\n164049.1'),\n",
              " Document(metadata={'source': '/content/drive/MyDrive/llm/bank_statement.pdf', 'page': 11}, page_content='Date\\nDescription\\nTrans. ID\\nAmount\\nType\\nBalance\\n2023-07-19\\nDream pass ground move.\\n2VZU4J\\n420.84\\nCredit\\n164469.94\\n2023-07-19\\nReflect floor upon five.\\nS6AIDE\\n17.89\\nCredit\\n164487.83\\n2023-07-20\\nData pick with rich.\\nLLBJLU\\n417.02\\nDebit\\n164070.81\\n2023-07-21\\nWrite time show medical.\\n5FFK3N\\n103.64\\nCredit\\n164174.45\\n2023-07-21\\nNone get open beautiful.\\nPXJ2PQ\\n178.23\\nDebit\\n163996.22\\n2023-07-22\\nView foot quite also theo\\nA0XMIZ\\n132.64\\nDebit\\n163863.58\\n2023-07-22\\nSimply answer air voice.\\nX90BVY\\n186.7\\nCredit\\n164050.28\\n2023-07-22\\nThrow what point producti\\n5EYSXI'),\n",
              " Document(metadata={'source': '/content/drive/MyDrive/llm/bank_statement.pdf', 'page': 11}, page_content='2023-07-22\\nThrow what point producti\\n5EYSXI\\n479.76\\nCredit\\n164530.04\\n2023-07-22\\nDay thus mention.\\nBT797M\\n182.85\\nCredit\\n164712.89\\n2023-07-23\\nNational card create.\\nEEPLWI\\n267.22\\nDebit\\n164445.67\\n2023-07-23\\nUntil especially green gr\\nZ2JU2P\\n115.76\\nDebit\\n164329.91\\n2023-07-24\\nIf put deep three.\\nB55FVX\\n58.31\\nCredit\\n164388.22\\n2023-07-24\\nArm hand again part.\\nF8JOLX\\n18.79\\nDebit\\n164369.43\\n2023-07-25\\nOff speak bag lawyer char\\nG1N788\\n336.85\\nCredit\\n164706.28\\n2023-07-25\\nVery recently always.\\nTM6WMU\\n117.85\\nDebit\\n164588.43\\n2023-07-26\\nHerself seat view could.'),\n",
              " Document(metadata={'source': '/content/drive/MyDrive/llm/bank_statement.pdf', 'page': 11}, page_content='164588.43\\n2023-07-26\\nHerself seat view could.\\nU2VPJZ\\n123.98\\nDebit\\n164464.45\\n2023-07-28\\nProgram doctor interview.\\nV3LFII\\n410.1\\nCredit\\n164874.55\\n2023-07-29\\nMe want compare.\\nCCYD07\\n328.95\\nCredit\\n165203.5\\n2023-07-29\\nMeeting issue national se\\nBO7VM2\\n17.54\\nDebit\\n165185.96\\n2023-07-29\\nType dog group space.\\n2TXYAO\\n297.65\\nDebit\\n164888.31\\n2023-07-30\\nComputer long down histor\\nOBS56I\\n463.43\\nDebit\\n164424.88\\n2023-07-30\\nShow here especially fiel\\nOP2Y4M\\n359.31\\nDebit\\n164065.57\\n2023-07-31\\nStore manager edge later \\nA1C9E1\\n174.1\\nCredit\\n164239.67\\n2023-07-31'),\n",
              " Document(metadata={'source': '/content/drive/MyDrive/llm/bank_statement.pdf', 'page': 11}, page_content='A1C9E1\\n174.1\\nCredit\\n164239.67\\n2023-07-31\\nSubject wear better.\\nNW6HAE\\n20.66\\nCredit\\n164260.33\\n2023-08-01\\nGo star beyond Congress.\\n7O3RDX\\n127.23\\nCredit\\n164387.56\\n2023-08-03\\nMemory camera north just.\\nPC0RKD\\n157.1\\nDebit\\n164230.46\\n2023-08-03\\nRemain common wish act.\\n559AVW\\n217.3\\nCredit\\n164447.76\\n2023-08-04\\nSell debate out go.\\nSUXBLI\\n132.45\\nDebit\\n164315.31\\n2023-08-04\\nCenter about one course.\\n5156X8\\n116.14\\nCredit\\n164431.45\\n2023-08-05\\nSong item race around fiv\\nGRG2YF\\n126.92\\nCredit\\n164558.37\\n2023-08-05\\nFather message nor under.\\nV8RGS3\\n339.25\\nCredit'),\n",
              " Document(metadata={'source': '/content/drive/MyDrive/llm/bank_statement.pdf', 'page': 11}, page_content='Father message nor under.\\nV8RGS3\\n339.25\\nCredit\\n164897.62\\n2023-08-05\\nHot again when.\\nH4Q9VO\\n207.08\\nCredit\\n165104.7\\n2023-08-06\\nAnd course indicate.\\nSL9J7D\\n74.51\\nDebit\\n165030.19\\n2023-08-06\\nLive stock plan social.\\n61X4ZM\\n80.64\\nDebit\\n164949.55\\n2023-08-07\\nGo bring strong.\\nH9IUAL\\n476.54\\nCredit\\n165426.09'),\n",
              " Document(metadata={'source': '/content/drive/MyDrive/llm/bank_statement.pdf', 'page': 12}, page_content='Date\\nDescription\\nTrans. ID\\nAmount\\nType\\nBalance\\n2023-08-07\\nLife resource boy since.\\nP5CD2R\\n195.29\\nCredit\\n165621.38\\n2023-08-07\\nChild serious defense mou\\nIP7EQ1\\n118.12\\nDebit\\n165503.26\\n2023-08-09\\nKitchen point play itself\\nU1T25H\\n276.63\\nCredit\\n165779.89\\n2023-08-10\\nMan more skill.\\nKTM68O\\n318.2\\nDebit\\n165461.69\\n2023-08-10\\nCut why meeting either.\\n26V3SM\\n419.42\\nCredit\\n165881.11\\n2023-08-11\\nImagine accept soon.\\nRU86H1\\n468.14\\nDebit\\n165412.97\\n2023-08-12\\nWhose go per court Congre\\nSV3C67\\n310.21\\nCredit\\n165723.18\\n2023-08-13\\nCatch edge official chair\\n1X1UUQ'),\n",
              " Document(metadata={'source': '/content/drive/MyDrive/llm/bank_statement.pdf', 'page': 12}, page_content='2023-08-13\\nCatch edge official chair\\n1X1UUQ\\n184.45\\nCredit\\n165907.63\\n2023-08-14\\nYard common on or maybe.\\nCCGO9L\\n70.82\\nCredit\\n165978.45\\n2023-08-15\\nOfficial gun big build ba\\nE45ZCL\\n50.9\\nCredit\\n166029.35\\n2023-08-16\\nLike eye listen shake.\\n3A21BK\\n257.4\\nCredit\\n166286.75\\n2023-08-16\\nHave think air.\\nO9PZTF\\n162.01\\nCredit\\n166448.76\\n2023-08-17\\nForeign bar for pay white\\nJMLC3Q\\n118.56\\nCredit\\n166567.32\\n2023-08-19\\nAnimal consider record.\\n5EYKHE\\n383.21\\nCredit\\n166950.53\\n2023-08-19\\nKeep light simple sort.\\n6REVKZ\\n342.07\\nDebit\\n166608.46\\n2023-08-19'),\n",
              " Document(metadata={'source': '/content/drive/MyDrive/llm/bank_statement.pdf', 'page': 12}, page_content='6REVKZ\\n342.07\\nDebit\\n166608.46\\n2023-08-19\\nKeep trial difficult migh\\nOXPSYE\\n226.41\\nCredit\\n166834.87\\n2023-08-19\\nBook sure his technology.\\nX5YI1R\\n278.65\\nDebit\\n166556.22\\n2023-08-20\\nPerson me support three.\\nR4YL28\\n256.43\\nDebit\\n166299.79\\n2023-08-22\\nMajor discuss art enter l\\nKYBLMY\\n199.87\\nCredit\\n166499.66\\n2023-08-22\\nGood to political differe\\nA1JU3X\\n132.76\\nDebit\\n166366.9\\n2023-08-24\\nLoss soldier free health.\\nFF1QJL\\n488.88\\nDebit\\n165878.02\\n2023-08-24\\nAir ready and.\\n5Q8FD2\\n9.72\\nCredit\\n165887.74\\n2023-08-26\\nHear large finally sure.\\nGDQ5OH\\n60.86\\nCredit'),\n",
              " Document(metadata={'source': '/content/drive/MyDrive/llm/bank_statement.pdf', 'page': 12}, page_content='Hear large finally sure.\\nGDQ5OH\\n60.86\\nCredit\\n165948.6\\n2023-08-27\\nBar woman player.\\nCJ23PK\\n278.14\\nCredit\\n166226.74\\n2023-08-28\\nAnswer quality nation che\\n1YMK21\\n394.42\\nDebit\\n165832.32\\n2023-08-29\\nDirector purpose fly PM w\\n5ZJR1Q\\n416.18\\nDebit\\n165416.14\\n2023-08-29\\nNow attorney whether.\\nE2OM1A\\n207.91\\nDebit\\n165208.23\\n2023-08-29\\nForeign first woman best.\\nXXV48Q\\n402.33\\nDebit\\n164805.9\\n2023-08-29\\nSection set arm.\\n5DU6SZ\\n298.13\\nCredit\\n165104.03\\n2023-08-29\\nMe north drug throw fire.\\nR3QKK1\\n28.85\\nCredit\\n165132.88\\n2023-08-30\\nWait election property ar\\nQY6YE5'),\n",
              " Document(metadata={'source': '/content/drive/MyDrive/llm/bank_statement.pdf', 'page': 12}, page_content='2023-08-30\\nWait election property ar\\nQY6YE5\\n339.8\\nCredit\\n165472.68\\n2023-08-30\\nAny however guy bar.\\nPDTRB9\\n424.32\\nDebit\\n165048.36\\n2023-08-30\\nSuccess write economy pay\\nG0DWVB\\n61.27\\nDebit\\n164987.09\\n2023-08-31\\nSame every heavy.\\nA8CGUE\\n248.07\\nCredit\\n165235.16\\n2023-08-31\\nStrategy stuff ten.\\nINZPVH\\n383.33\\nCredit\\n165618.49'),\n",
              " Document(metadata={'source': '/content/drive/MyDrive/llm/bank_statement.pdf', 'page': 13}, page_content='Date\\nDescription\\nTrans. ID\\nAmount\\nType\\nBalance\\n2023-09-01\\nProfessor small so prove.\\nWPR933\\n344.49\\nCredit\\n165962.98\\n2023-09-01\\nBar arm happy ability use\\n8Q4RRO\\n365.06\\nDebit\\n165597.92\\n2023-09-01\\nHerself music it understa\\nZ28DXL\\n388.08\\nCredit\\n165986.0\\n2023-09-02\\nOn walk five standard or.\\nU8GHNB\\n79.17\\nDebit\\n165906.83\\n2023-09-02\\nResearch every voice.\\n0RZ8GQ\\n122.03\\nDebit\\n165784.8\\n2023-09-03\\nActivity prove from.\\n74KCOT\\n69.14\\nCredit\\n165853.94\\n2023-09-04\\nMan do traditional shake \\n0MWAPF\\n452.3\\nDebit\\n165401.64\\n2023-09-04\\nIt hot line bring speak.\\n7BYQ80'),\n",
              " Document(metadata={'source': '/content/drive/MyDrive/llm/bank_statement.pdf', 'page': 13}, page_content='2023-09-04\\nIt hot line bring speak.\\n7BYQ80\\n429.47\\nCredit\\n165831.11\\n2023-09-05\\nReport message leg manage\\nWY26PB\\n65.14\\nCredit\\n165896.25\\n2023-09-05\\nBase up employee future.\\nLKPFE6\\n152.46\\nDebit\\n165743.79\\n2023-09-08\\nChange old woman bank.\\nQOMD3T\\n297.95\\nDebit\\n165445.84\\n2023-09-08\\nUse baby cup.\\nJRZXMM\\n481.09\\nCredit\\n165926.93\\n2023-09-08\\nFire speak where mind.\\nCUH9MS\\n7.14\\nDebit\\n165919.79\\n2023-09-10\\nIt happy our together.\\nKB1Z4S\\n332.87\\nDebit\\n165586.92\\n2023-09-12\\nYard site purpose.\\nKNXRG2\\n220.94\\nDebit\\n165365.98\\n2023-09-13\\nSpend war sort world.\\nBUK97M'),\n",
              " Document(metadata={'source': '/content/drive/MyDrive/llm/bank_statement.pdf', 'page': 13}, page_content='165365.98\\n2023-09-13\\nSpend war sort world.\\nBUK97M\\n346.66\\nDebit\\n165019.32\\n2023-09-14\\nTest task purpose Congres\\nYTEMRE\\n456.74\\nCredit\\n165476.06\\n2023-09-14\\nAvailable top suggest no.\\nV2FBAU\\n304.14\\nDebit\\n165171.92\\n2023-09-14\\nGive fine family down.\\n3GS3DC\\n159.0\\nDebit\\n165012.92\\n2023-09-14\\nStock decide continue.\\nW2N4LI\\n457.15\\nDebit\\n164555.77\\n2023-09-14\\nPower enjoy wear.\\n2E5DFS\\n251.65\\nDebit\\n164304.12\\n2023-09-15\\nHold pretty probably loss\\nN9OUCK\\n310.72\\nDebit\\n163993.4\\n2023-09-16\\nPresent media business.\\nCQLG8E\\n70.43\\nDebit\\n163922.97\\n2023-09-16'),\n",
              " Document(metadata={'source': '/content/drive/MyDrive/llm/bank_statement.pdf', 'page': 13}, page_content='CQLG8E\\n70.43\\nDebit\\n163922.97\\n2023-09-16\\nTeach method simple off.\\nMEJX6P\\n424.63\\nCredit\\n164347.6\\n2023-09-17\\nMust at traditional role.\\n9YXQQR\\n370.73\\nCredit\\n164718.33\\n2023-09-17\\nDraw me side education.\\nXZTCJ3\\n165.0\\nCredit\\n164883.33\\n2023-09-18\\nLess thus blue whatever.\\nP5K0UI\\n409.36\\nCredit\\n165292.69\\n2023-09-18\\nMonth turn board short he\\nJQOEZM\\n112.63\\nDebit\\n165180.06\\n2023-09-18\\nItem action car eat just.\\n10JJM5\\n159.03\\nDebit\\n165021.03\\n2023-09-19\\nMemory weight treat.\\nWHG7MA\\n98.11\\nCredit\\n165119.14\\n2023-09-19\\nFeeling carry office anim\\nHXRZ7N\\n106.15\\nDebit'),\n",
              " Document(metadata={'source': '/content/drive/MyDrive/llm/bank_statement.pdf', 'page': 13}, page_content='Feeling carry office anim\\nHXRZ7N\\n106.15\\nDebit\\n165012.99\\n2023-09-19\\nAnd send reduce book.\\nVBPXDL\\n344.26\\nCredit\\n165357.25\\n2023-09-20\\nAgency run save social.\\nTJS0C1\\n432.11\\nDebit\\n164925.14\\n2023-09-20\\nOn walk nothing the drug.\\nUFKOUY\\n240.45\\nCredit\\n165165.59\\n2023-09-21\\nLeave doctor ball.\\n3CESSH\\n201.05\\nDebit\\n164964.54'),\n",
              " Document(metadata={'source': '/content/drive/MyDrive/llm/bank_statement.pdf', 'page': 14}, page_content='Date\\nDescription\\nTrans. ID\\nAmount\\nType\\nBalance\\n2023-09-24\\nConsumer something raise \\nVE5NS4\\n412.96\\nCredit\\n165377.5\\n2023-09-24\\nPurpose school better let\\nN0TX41\\n74.86\\nCredit\\n165452.36\\n2023-09-26\\nStudy prevent feeling pay\\nIAF2J5\\n453.22\\nDebit\\n164999.14\\n2023-09-26\\nGas side American whom.\\nL41ENR\\n401.58\\nDebit\\n164597.56\\n2023-09-26\\nNatural subject Mrs light\\n0HSGB2\\n280.49\\nCredit\\n164878.05\\n2023-09-27\\nUs growth wide respond do\\nMPXDQF\\n145.22\\nCredit\\n165023.27\\n2023-09-28\\nStructure moment cold sys\\nO0728X\\n459.66\\nCredit\\n165482.93\\n2023-09-28'),\n",
              " Document(metadata={'source': '/content/drive/MyDrive/llm/bank_statement.pdf', 'page': 14}, page_content='O0728X\\n459.66\\nCredit\\n165482.93\\n2023-09-28\\nShake onto adult at who.\\n5H5EPN\\n497.87\\nCredit\\n165980.8\\n2023-09-29\\nThe bank specific.\\n1312HP\\n258.03\\nCredit\\n166238.83\\n2023-09-30\\nGame song like seat say.\\nIEPGK2\\n247.34\\nDebit\\n165991.49\\n2023-10-03\\nScientist task poor expec\\n32HMI5\\n226.06\\nDebit\\n165765.43\\n2023-10-03\\nForce word true vote.\\n6FK22N\\n436.68\\nDebit\\n165328.75\\n2023-10-04\\nGreen reveal five half.\\nFZJ00Y\\n78.86\\nCredit\\n165407.61\\n2023-10-07\\nTax miss since management\\n6AZPV3\\n231.05\\nCredit\\n165638.66\\n2023-10-10\\nThroughout middle whom.\\n1J5DCD\\n6.41\\nDebit\\n165632.25'),\n",
              " Document(metadata={'source': '/content/drive/MyDrive/llm/bank_statement.pdf', 'page': 14}, page_content='1J5DCD\\n6.41\\nDebit\\n165632.25\\n2023-10-10\\nStore past pressure any.\\nMH1LJ5\\n232.68\\nDebit\\n165399.57\\n2023-10-12\\nManage small media visit.\\n1JF9UN\\n450.38\\nCredit\\n165849.95\\n2023-10-12\\nIt piece baby.\\nXBB7EU\\n15.78\\nDebit\\n165834.17\\n2023-10-14\\nPlace skill allow ago.\\n0YZW3U\\n353.31\\nCredit\\n166187.48\\n2023-10-14\\nExecutive team well kind.\\nQKNMDR\\n288.08\\nCredit\\n166475.56\\n2023-10-14\\nNight floor argue my.\\n98CMJT\\n44.87\\nDebit\\n166430.69\\n2023-10-18\\nStore see case enough.\\nP2T1YR\\n82.18\\nCredit\\n166512.87\\n2023-10-19\\nChair foot door.\\nSYIHWT\\n484.92\\nDebit\\n166027.95\\n2023-10-19'),\n",
              " Document(metadata={'source': '/content/drive/MyDrive/llm/bank_statement.pdf', 'page': 14}, page_content='SYIHWT\\n484.92\\nDebit\\n166027.95\\n2023-10-19\\nHit to special recently b\\nYEJT4V\\n361.7\\nCredit\\n166389.65\\n2023-10-19\\nBe good accept.\\nWR4453\\n246.11\\nDebit\\n166143.54\\n2023-10-21\\nFirst single sign test.\\nORQ0B7\\n294.11\\nCredit\\n166437.65\\n2023-10-23\\nWeight east provide.\\nM5KK01\\n366.82\\nDebit\\n166070.83\\n2023-10-23\\nBetween drop child yeah.\\n6MN07X\\n204.79\\nCredit\\n166275.62\\n2023-10-23\\nSpace not number he girl.\\nTBGEX8\\n64.23\\nCredit\\n166339.85\\n2023-10-24\\nMiss yeah everyone oil.\\n931J4I\\n282.08\\nCredit\\n166621.93\\n2023-10-24\\nNothing seem there away.\\nSVFII7\\n424.46\\nDebit\\n166197.47'),\n",
              " Document(metadata={'source': '/content/drive/MyDrive/llm/bank_statement.pdf', 'page': 14}, page_content='SVFII7\\n424.46\\nDebit\\n166197.47\\n2023-10-25\\nKind reflect box voice.\\n23JKHL\\n448.78\\nCredit\\n166646.25\\n2023-10-25\\nSchool well security even\\nVEV9CK\\n476.8\\nCredit\\n167123.05\\n2023-10-25\\nNot save road natural.\\nVRMVX7\\n408.96\\nCredit\\n167532.01\\n2023-10-27\\nAnimal move travel.\\nPMNNS6\\n193.92\\nDebit\\n167338.09'),\n",
              " Document(metadata={'source': '/content/drive/MyDrive/llm/bank_statement.pdf', 'page': 15}, page_content='Date\\nDescription\\nTrans. ID\\nAmount\\nType\\nBalance\\n2023-10-27\\nPut week wife pick.\\n078IPM\\n270.51\\nDebit\\n167067.58\\n2023-10-28\\nBecause all week door.\\nDW5YH7\\n27.81\\nCredit\\n167095.39\\n2023-10-28\\nMother training myself al\\nE0KF90\\n214.76\\nCredit\\n167310.15\\n2023-10-31\\nMust message could bed.\\nHUMR01\\n345.78\\nDebit\\n166964.37\\n2023-11-01\\nQuite where actually.\\nMY7S06\\n228.42\\nCredit\\n167192.79\\n2023-11-01\\nHowever table PM as have.\\n7J7DRD\\n164.65\\nCredit\\n167357.44\\n2023-11-02\\nLand total avoid.\\nT725SW\\n279.56\\nDebit\\n167077.88\\n2023-11-03\\nArgue kid control day rat\\nS1J29L\\n320.85'),\n",
              " Document(metadata={'source': '/content/drive/MyDrive/llm/bank_statement.pdf', 'page': 15}, page_content='Argue kid control day rat\\nS1J29L\\n320.85\\nDebit\\n166757.03\\n2023-11-06\\nAction ahead the.\\nPYOGMT\\n460.25\\nDebit\\n166296.78\\n2023-11-06\\nFine decade hot would.\\nK3WNN1\\n400.86\\nDebit\\n165895.92\\n2023-11-07\\nCareer write employee for\\nRC5WJU\\n355.12\\nDebit\\n165540.8\\n2023-11-08\\nPublic Mrs family yet.\\nD8AJQR\\n304.78\\nCredit\\n165845.58\\n2023-11-09\\nWest forget list two leav\\n6IF67T\\n444.41\\nCredit\\n166289.99\\n2023-11-09\\nPerson write reality.\\nG4AEVM\\n125.5\\nDebit\\n166164.49')]"
            ]
          },
          "metadata": {},
          "execution_count": 13
        }
      ]
    },
    {
      "cell_type": "code",
      "source": [
        "embedding = HuggingFaceEmbeddings(model_name = \"sentence-transformers/all-MiniLM-L6-v2\",\n",
        "                                  model_kwargs = {\"device\": \"cpu\"})"
      ],
      "metadata": {
        "colab": {
          "base_uri": "https://localhost:8080/"
        },
        "id": "1_-Y4K56hKNI",
        "outputId": "684b9d93-a283-4ce3-f34a-4c4533ae2588"
      },
      "execution_count": null,
      "outputs": [
        {
          "output_type": "stream",
          "name": "stderr",
          "text": [
            "<ipython-input-14-619b9b04e661>:1: LangChainDeprecationWarning: The class `HuggingFaceEmbeddings` was deprecated in LangChain 0.2.2 and will be removed in 1.0. An updated version of the class exists in the :class:`~langchain-huggingface package and should be used instead. To use it run `pip install -U :class:`~langchain-huggingface` and import as `from :class:`~langchain_huggingface import HuggingFaceEmbeddings``.\n",
            "  embedding = HuggingFaceEmbeddings(model_name = \"sentence-transformers/all-MiniLM-L6-v2\",\n",
            "/usr/local/lib/python3.10/dist-packages/sentence_transformers/cross_encoder/CrossEncoder.py:13: TqdmExperimentalWarning: Using `tqdm.autonotebook.tqdm` in notebook mode. Use `tqdm.tqdm` instead to force console mode (e.g. in jupyter console)\n",
            "  from tqdm.autonotebook import tqdm, trange\n",
            "/usr/local/lib/python3.10/dist-packages/huggingface_hub/utils/_auth.py:94: UserWarning: \n",
            "The secret `HF_TOKEN` does not exist in your Colab secrets.\n",
            "To authenticate with the Hugging Face Hub, create a token in your settings tab (https://huggingface.co/settings/tokens), set it as secret in your Google Colab and restart your session.\n",
            "You will be able to reuse this secret in all of your notebooks.\n",
            "Please note that authentication is recommended but still optional to access public models or datasets.\n",
            "  warnings.warn(\n"
          ]
        }
      ]
    },
    {
      "cell_type": "code",
      "source": [
        "vect = FAISS.from_documents(documents_splitted, embedding)"
      ],
      "metadata": {
        "id": "Bvv4bUPhhMr5"
      },
      "execution_count": null,
      "outputs": []
    },
    {
      "cell_type": "code",
      "source": [
        "vect.save_local(\"db/faiss\")"
      ],
      "metadata": {
        "id": "arfBjgQRhOy7"
      },
      "execution_count": null,
      "outputs": []
    },
    {
      "cell_type": "code",
      "source": [
        "llm_model = CTransformers(\n",
        "    model = model_file,\n",
        "    model_type = \"llama\",\n",
        "    config = {\"max_new_tokens\":500, \"temperature\": 0.01}\n",
        ")"
      ],
      "metadata": {
        "id": "ACsB7uwqhRw4"
      },
      "execution_count": null,
      "outputs": []
    },
    {
      "cell_type": "code",
      "source": [
        "# A low temperature (close to 0) makes the output more deterministic (less creative).\n",
        "# A high temperature (e.g., 1.0) increases randomness, leading to more diverse outputs."
      ],
      "metadata": {
        "id": "_putnZQ-hTJ9"
      },
      "execution_count": null,
      "outputs": []
    },
    {
      "cell_type": "code",
      "source": [
        "# prompt engineering\n",
        "\n",
        "it is the process of designing and refining prompts effectively interact with language models(like gpt,LLama etc)\n",
        "\n",
        "How you ask : A well designed prompt can drastically improve response qulity\n",
        "what you include :provide clear instructions and relevent context for better o/p\n",
        "\n"
      ],
      "metadata": {
        "id": "aakhcXsvjFza"
      },
      "execution_count": null,
      "outputs": []
    },
    {
      "cell_type": "code",
      "source": [
        "\"\"\"\n",
        "you are a medical chatbot /\n",
        "you should respond with some medications or tablets /\n",
        "\n",
        "if you do not know the answer, do not makeover, Just respond as 'No Idea' /\n",
        "\n",
        "Example: what is that tablet name?\n",
        "        bot answer : <tablet name>\n",
        "\n",
        "\"\"\""
      ],
      "metadata": {
        "id": "NvSJ2m74k3ak"
      },
      "execution_count": null,
      "outputs": []
    },
    {
      "cell_type": "code",
      "source": [
        "prompt = \"\"\"\n",
        "\n",
        "use the following information and answer the question based on that /\n",
        "provide only useful informations /\n",
        "if you do not know, do not try to make wrong answers /\n",
        "if you do not know, just respond as 'I do not know' /\n",
        "\n",
        "show only the answer alone /\n",
        "Example: what is the name in doc?\n",
        "       output: Raj\n",
        "\n",
        "Context: {context}\n",
        "Questions: {question}\n",
        "\n",
        "\n",
        "\"\"\""
      ],
      "metadata": {
        "id": "YA3UU6KDlEO1"
      },
      "execution_count": null,
      "outputs": []
    },
    {
      "cell_type": "code",
      "source": [
        "# making prompt template\n",
        "\n",
        "from langchain import PromptTemplate\n",
        "from langchain.chains import RetrievalQA"
      ],
      "metadata": {
        "id": "wOx1BFxQlWfj"
      },
      "execution_count": null,
      "outputs": []
    },
    {
      "cell_type": "code",
      "source": [
        "# creating sub functions\n",
        "\n",
        "def sqa_prompt():\n",
        "  prompt_temp = PromptTemplate(template = prompt, input_variables = [\"context\", \"question\"])\n",
        "  return prompt_temp"
      ],
      "metadata": {
        "id": "xwUuD3aGlhoC"
      },
      "execution_count": null,
      "outputs": []
    },
    {
      "cell_type": "code",
      "source": [
        "def ret_answer(llm_model_name,prompt_name,v_db):\n",
        "  ques_ans = RetrievalQA.from_chain_type(\n",
        "      llm = llm_model_name,\n",
        "      chain_type = \"stuff\",\n",
        "      chain_type_kwargs = {\"prompt\": prompt_name},\n",
        "      retriever = v_db.as_retriever(search_kwargs={'k':2})\n",
        "  )\n",
        "  return ques_ans"
      ],
      "metadata": {
        "id": "nr_oERVNlvrN"
      },
      "execution_count": null,
      "outputs": []
    },
    {
      "cell_type": "code",
      "source": [
        "#\"stuff\": Concatenates all retrieved documents into a single input for the language model."
      ],
      "metadata": {
        "id": "0h6OZKmEmSfS"
      },
      "execution_count": null,
      "outputs": []
    },
    {
      "cell_type": "code",
      "source": [
        "def setup_mode():\n",
        "  embb = HuggingFaceEmbeddings(model_name = \"sentence-transformers/all-MiniLM-L6-v2\",\n",
        "                                  model_kwargs = {\"device\": \"cpu\"})\n",
        "  vdb = FAISS.load_local(\"/content/db/faiss\", embb, allow_dangerous_deserialization= True)\n",
        "\n",
        "  pmt = sqa_prompt()\n",
        "\n",
        "  get_answer = ret_answer(llm_model, pmt, vdb)\n",
        "  return get_answer"
      ],
      "metadata": {
        "id": "8a9By5k5m4BW"
      },
      "execution_count": null,
      "outputs": []
    },
    {
      "cell_type": "code",
      "source": [
        "# final load run of llm model\n",
        "\n",
        "llm_qa_model = setup_mode()"
      ],
      "metadata": {
        "id": "T8TO0dS-m4no"
      },
      "execution_count": null,
      "outputs": []
    },
    {
      "cell_type": "code",
      "source": [
        "asked_question = 'What is account number?'"
      ],
      "metadata": {
        "id": "GiWXmiGqnTh5"
      },
      "execution_count": null,
      "outputs": []
    },
    {
      "cell_type": "code",
      "source": [
        "llm_qa_model({'query':asked_question})"
      ],
      "metadata": {
        "colab": {
          "base_uri": "https://localhost:8080/"
        },
        "id": "PWp1P0JgncV1",
        "outputId": "7b1748fd-a88e-4e4c-b277-20581e64fd19"
      },
      "execution_count": null,
      "outputs": [
        {
          "output_type": "stream",
          "name": "stderr",
          "text": [
            "<ipython-input-28-9e25680c5c04>:1: LangChainDeprecationWarning: The method `Chain.__call__` was deprecated in langchain 0.1.0 and will be removed in 1.0. Use :meth:`~invoke` instead.\n",
            "  llm_qa_model({'query':asked_question})\n"
          ]
        },
        {
          "output_type": "execute_result",
          "data": {
            "text/plain": [
              "{'query': 'What is account number?', 'result': 'Answer: 1234567890'}"
            ]
          },
          "metadata": {},
          "execution_count": 28
        }
      ]
    },
    {
      "cell_type": "code",
      "source": [],
      "metadata": {
        "id": "27W9jKjLnkHD"
      },
      "execution_count": null,
      "outputs": []
    }
  ]
}